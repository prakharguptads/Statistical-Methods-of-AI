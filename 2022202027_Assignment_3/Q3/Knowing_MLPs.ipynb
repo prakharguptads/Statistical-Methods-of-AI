{
  "cells": [
    {
      "cell_type": "markdown",
      "id": "a736d316-20aa-4263-84c3-8afc5c4a9cc6",
      "metadata": {
        "jp-MarkdownHeadingCollapsed": true,
        "tags": [],
        "id": "a736d316-20aa-4263-84c3-8afc5c4a9cc6"
      },
      "source": [
        "# SMAI Assignment - 3\n",
        "\n",
        "## Question - `3` : Knowing MLPs\n",
        "\n",
        "| | |\n",
        "|- | -|\n",
        "| Course | Statistical Methods in AI |\n",
        "| Release Date | `09.03.2023` |\n",
        "| Due Date | `24.03.2023` |"
      ]
    },
    {
      "cell_type": "markdown",
      "id": "1c86307a-7690-40cf-9eb2-e29fab7b15b5",
      "metadata": {
        "jp-MarkdownHeadingCollapsed": true,
        "tags": [],
        "id": "1c86307a-7690-40cf-9eb2-e29fab7b15b5"
      },
      "source": [
        "## Please read the following before moving on\n",
        "\n",
        "Welcome to the world of Multilayer Perceptrons (MLP)! You already know that MLPs are feedforward neural networks consisting of multiple layers of nodes or neurons. These networks are well-suited for a wide range of classification and regression tasks, thanks to their ability to learn complex, non-linear relationships between inputs and outputs.\n",
        "\n",
        "In this assignment, we will be working with the MNIST dataset to explore the importance of different MLP components. The MNIST dataset consists of 70,000 handwritten digit images, each of which is 28x28 pixels in size. Our goal is to use an MLP to classify these images into one of 10 categories (0-9).\n",
        "\n",
        "To improve the performance of our MLP, we will experiment with various techniques such as Dropout, Batch Normalization, Loss Functions, Stochastic batch and mini-batch gradient descent, and more. Please note, you must use mini-batch unless explicity specified.\n",
        "\n",
        "In addition, we will experiment with different optimization algorithms such as stochastic gradient descent, Adam, and RMSprop to find the optimal weights and biases for our MLP. We will use stochastic batch and mini-batch gradient descent, which involve updating the weights and biases of the network based on a small batch of randomly sampled training examples, to speed up the training process and reduce memory usage.\n",
        "\n",
        "By the end of this assignment, you will have gained a deeper understanding of the various components that make up an MLP and their importance in achieving high performance in classification tasks. You will have gained hands-on experience in experimenting with these components and learned how to fine-tune an MLP to achieve the best possible performance on the MNIST dataset. So, let's get started!\n",
        "\n",
        "🫵Pro-tip: Do not re-write any results so as to re-use them in later experiments for tabulation and plotting.\n",
        "\n",
        "💭Trivia: Did you know code written using ChatGPT is easy to catch?"
      ]
    },
    {
      "cell_type": "markdown",
      "id": "436f25c4",
      "metadata": {
        "jp-MarkdownHeadingCollapsed": true,
        "tags": [],
        "id": "436f25c4"
      },
      "source": [
        "### Step zero: Import Libraries"
      ]
    },
    {
      "cell_type": "code",
      "execution_count": 72,
      "id": "1009eb09",
      "metadata": {
        "id": "1009eb09"
      },
      "outputs": [],
      "source": [
        "import warnings\n",
        "warnings.filterwarnings(\"ignore\")\n",
        "\n",
        "import numpy as np\n",
        "import pandas as pd\n",
        "\n",
        "import matplotlib\n",
        "import seaborn as sns\n",
        "%matplotlib inline\n",
        "\n",
        "import torch\n",
        "import torchvision\n",
        "from torchvision import datasets\n",
        "from torchvision import transforms\n",
        "from torch.autograd import Variable\n",
        "import torch.nn as nn\n",
        "import warnings\n",
        "from sklearn.metrics import confusion_matrix, classification_report\n",
        "warnings.filterwarnings(\"ignore\")\n",
        "from tqdm import tqdm"
      ]
    },
    {
      "cell_type": "markdown",
      "id": "5e0546f0",
      "metadata": {
        "jp-MarkdownHeadingCollapsed": true,
        "tags": [],
        "id": "5e0546f0"
      },
      "source": [
        "### Step one: Using a PyTorch Dataset\n",
        "Load MNIST dataset from `torchvision.datasets`"
      ]
    },
    {
      "cell_type": "code",
      "execution_count": 73,
      "id": "4d54d14d",
      "metadata": {
        "id": "4d54d14d"
      },
      "outputs": [],
      "source": [
        "transform = transforms.Compose([\n",
        "                    transforms.ToTensor(), \n",
        "            ])\n",
        "\n",
        "trainset = datasets.MNIST(root='./data', train=True, download=True, transform=transform)\n",
        "testset = datasets.MNIST(root='./data', train=False, download=True, transform=transform)"
      ]
    },
    {
      "cell_type": "code",
      "execution_count": 74,
      "id": "db5bf20a",
      "metadata": {
        "id": "db5bf20a"
      },
      "outputs": [],
      "source": [
        "trainloader_minibatch = torch.utils.data.DataLoader(trainset, batch_size=64\n",
        "                                                    , shuffle=True, num_workers=2)\n",
        "trainloader_stochastic = torch.utils.data.DataLoader(trainset, batch_size=1\n",
        "                                                     , shuffle=True, num_workers=2)\n",
        "testloader = torch.utils.data.DataLoader(testset, batch_size=64, shuffle=False, num_workers=2)"
      ]
    },
    {
      "cell_type": "code",
      "execution_count": 75,
      "id": "179becdc",
      "metadata": {
        "colab": {
          "base_uri": "https://localhost:8080/"
        },
        "id": "179becdc",
        "outputId": "563a024d-551f-4d35-f91c-8a06ca2b60ec"
      },
      "outputs": [
        {
          "output_type": "stream",
          "name": "stderr",
          "text": [
            "  0%|          | 1/938 [00:00<02:33,  6.11it/s]"
          ]
        },
        {
          "output_type": "stream",
          "name": "stdout",
          "text": [
            "0 torch.Size([64, 1, 28, 28]) torch.Size([64])\n"
          ]
        },
        {
          "output_type": "execute_result",
          "data": {
            "text/plain": [
              "True"
            ]
          },
          "metadata": {},
          "execution_count": 75
        }
      ],
      "source": [
        "pbar = tqdm(total=len(trainloader_minibatch))\n",
        "for idx, (data,label) in enumerate(trainloader_minibatch):\n",
        "    print(idx,data.size(),label.size())\n",
        "    pbar.update(1)\n",
        "    break\n",
        "pbar.refresh()"
      ]
    },
    {
      "cell_type": "markdown",
      "id": "b25020e7",
      "metadata": {
        "jp-MarkdownHeadingCollapsed": true,
        "tags": [],
        "id": "b25020e7"
      },
      "source": [
        "### Step two: Define a MLP Model and without any bells and whitsles...\n",
        "... along with a CrossEntropy loss criterion \n",
        "\n",
        "Do not use Dropout, BN or any other thing. Use ReLU for hidden layers.\n",
        "\n",
        "⚠️ Do not use SoftMax in the output as nn.CrossEntropyLoss combines SoftMax and NLLLoss."
      ]
    },
    {
      "cell_type": "code",
      "execution_count": 81,
      "id": "a49dc9a7",
      "metadata": {
        "id": "a49dc9a7"
      },
      "outputs": [],
      "source": [
        "\n",
        "class SimpleMLP(nn.Module):\n",
        "    def __init__(self):\n",
        "        super(SimpleMLP,self).__init__()\n",
        "        # code here\n",
        "        self.fc1 = nn.Linear(784, 128)\n",
        "        self.fc2 = nn.Linear(128, 64)\n",
        "        self.fc3 = nn.Linear(64, 10)\n",
        "    def forward(self,x):\n",
        "        # code here\n",
        "        x = x.view(-1, 784) # flatten the input images\n",
        "        x = nn.functional.relu(self.fc1(x))\n",
        "        x = nn.functional.relu(self.fc2(x))\n",
        "        x = self.fc3(x)\n",
        "        return x"
      ]
    },
    {
      "cell_type": "code",
      "source": [
        "mlp1 = SimpleMLP()\n",
        "mlp2 = SimpleMLP()\n",
        "mlp3 = SimpleMLP()\n",
        "mlp4 = SimpleMLP()\n",
        "mlp5 = SimpleMLP()\n",
        "criterion1 = nn.CrossEntropyLoss()\n",
        "criterion2 = nn.CrossEntropyLoss()\n",
        "criterion3 = nn.CrossEntropyLoss()\n",
        "criterion4 = nn.CrossEntropyLoss()\n",
        "criterion5 = nn.CrossEntropyLoss()"
      ],
      "metadata": {
        "id": "o-gyxLl5-nLJ"
      },
      "id": "o-gyxLl5-nLJ",
      "execution_count": 82,
      "outputs": []
    },
    {
      "cell_type": "markdown",
      "id": "520e81eb",
      "metadata": {
        "jp-MarkdownHeadingCollapsed": true,
        "tags": [],
        "id": "520e81eb"
      },
      "source": [
        "### Step three: Define the following optimizers using nn.optim\n",
        "1. SGD\n",
        "2. SGD with momentum\n",
        "3. SGD with L2 regularization\n",
        "4. RMSprop\n",
        "5. Adam"
      ]
    },
    {
      "cell_type": "code",
      "execution_count": 96,
      "id": "717fa204",
      "metadata": {
        "id": "717fa204"
      },
      "outputs": [],
      "source": [
        "# code here\n",
        "import torch.optim as optim\n",
        "sgd_optimizer = optim.SGD(mlp1.parameters(), lr=0.01)\n",
        "momentum_optimizer = optim.SGD(mlp2.parameters(), lr=0.01, momentum=0.9)\n",
        "l2_optimizer = optim.SGD(mlp3.parameters(), lr=0.01, weight_decay=1e-5)\n",
        "rmsprop_optimizer = optim.RMSprop(mlp4.parameters(), lr=0.001)\n",
        "adam_optimizer = optim.Adam(mlp5.parameters(), lr=0.001)\n"
      ]
    },
    {
      "cell_type": "markdown",
      "id": "f5f0f6b8",
      "metadata": {
        "jp-MarkdownHeadingCollapsed": true,
        "tags": [],
        "id": "f5f0f6b8"
      },
      "source": [
        "### Step four: Run the SimpleMLP using different optimizers and plot train and test loss for each optimizer.\n",
        "Explain the results.\n",
        "\n",
        "Report final accuracy, F1 score and other relavant metrics in a tabular form on test and train datasets."
      ]
    },
    {
      "cell_type": "code",
      "execution_count": 92,
      "id": "cbdb2e27",
      "metadata": {
        "id": "cbdb2e27"
      },
      "outputs": [],
      "source": [
        "# code, plots and explainiation here\n",
        "import matplotlib.pyplot as plt\n",
        "x = [i+1 for i in range(10)]\n",
        "def plot_losses(train_loss,val_loss):\n",
        "  plt.plot(x, train_loss, label='train_loss')\n",
        "  plt.plot(x, val_loss, label='val_loss')\n",
        "  plt.legend()\n",
        "  plt.show()"
      ]
    },
    {
      "cell_type": "code",
      "source": [
        "len(trainloader_minibatch)"
      ],
      "metadata": {
        "colab": {
          "base_uri": "https://localhost:8080/"
        },
        "id": "P_4S6ALEquhj",
        "outputId": "5c7b539f-ef58-4f86-9c53-fe2cbfb12bab"
      },
      "id": "P_4S6ALEquhj",
      "execution_count": 62,
      "outputs": [
        {
          "output_type": "execute_result",
          "data": {
            "text/plain": [
              "938"
            ]
          },
          "metadata": {},
          "execution_count": 62
        }
      ]
    },
    {
      "cell_type": "code",
      "execution_count": 100,
      "id": "9d772c66",
      "metadata": {
        "id": "9d772c66",
        "colab": {
          "base_uri": "https://localhost:8080/",
          "height": 1000
        },
        "outputId": "2c531b94-18ab-45ba-e46e-de5547220245"
      },
      "outputs": [
        {
          "metadata": {
            "tags": null
          },
          "name": "stdout",
          "output_type": "stream",
          "text": [
            "Training with SGD (\n",
            "Parameter Group 0\n",
            "    dampening: 0\n",
            "    differentiable: False\n",
            "    foreach: None\n",
            "    lr: 0.01\n",
            "    maximize: False\n",
            "    momentum: 0\n",
            "    nesterov: False\n",
            "    weight_decay: 0\n",
            ")\n",
            "Epoch 1 - Train Loss: 0.216, Test Loss: 0.206, Accuracy: 0.942\n",
            "Epoch 2 - Train Loss: 0.204, Test Loss: 0.199, Accuracy: 0.941\n",
            "Epoch 3 - Train Loss: 0.193, Test Loss: 0.189, Accuracy: 0.947\n",
            "Epoch 4 - Train Loss: 0.183, Test Loss: 0.179, Accuracy: 0.947\n",
            "Epoch 5 - Train Loss: 0.174, Test Loss: 0.170, Accuracy: 0.950\n",
            "Epoch 6 - Train Loss: 0.166, Test Loss: 0.165, Accuracy: 0.952\n",
            "Epoch 7 - Train Loss: 0.158, Test Loss: 0.158, Accuracy: 0.953\n",
            "Epoch 8 - Train Loss: 0.151, Test Loss: 0.153, Accuracy: 0.956\n",
            "Epoch 9 - Train Loss: 0.144, Test Loss: 0.146, Accuracy: 0.956\n",
            "Epoch 10 - Train Loss: 0.138, Test Loss: 0.142, Accuracy: 0.957\n"
          ]
        },
        {
          "data": {
            "image/png": "[encoded data removed]",
            "text/plain": [
              "<Figure size 432x288 with 1 Axes>"
            ]
          },
          "metadata": {},
          "output_type": "display_data"
        },
        {
          "metadata": {
            "tags": null
          },
          "name": "stdout",
          "output_type": "stream",
          "text": [
            "Training with SGD (\n",
            "Parameter Group 0\n",
            "    dampening: 0\n",
            "    differentiable: False\n",
            "    foreach: None\n",
            "    lr: 0.01\n",
            "    maximize: False\n",
            "    momentum: 0.9\n",
            "    nesterov: False\n",
            "    weight_decay: 0\n",
            ")\n",
            "Epoch 1 - Train Loss: 0.563, Test Loss: 0.233, Accuracy: 0.932\n",
            "Epoch 2 - Train Loss: 0.195, Test Loss: 0.166, Accuracy: 0.949\n",
            "Epoch 3 - Train Loss: 0.133, Test Loss: 0.124, Accuracy: 0.962\n",
            "Epoch 4 - Train Loss: 0.101, Test Loss: 0.104, Accuracy: 0.969\n",
            "Epoch 5 - Train Loss: 0.081, Test Loss: 0.087, Accuracy: 0.972\n",
            "Epoch 6 - Train Loss: 0.067, Test Loss: 0.085, Accuracy: 0.974\n",
            "Epoch 7 - Train Loss: 0.056, Test Loss: 0.079, Accuracy: 0.975\n",
            "Epoch 8 - Train Loss: 0.049, Test Loss: 0.078, Accuracy: 0.976\n",
            "Epoch 9 - Train Loss: 0.041, Test Loss: 0.072, Accuracy: 0.978\n",
            "Epoch 10 - Train Loss: 0.036, Test Loss: 0.074, Accuracy: 0.976\n"
          ]
        },
        {
          "data": {
            "image/png": "[encoded data removed]",
            "text/plain": [
              "<Figure size 432x288 with 1 Axes>"
            ]
          },
          "metadata": {},
          "output_type": "display_data"
        },
        {
          "metadata": {
            "tags": null
          },
          "name": "stdout",
          "output_type": "stream",
          "text": [
            "Training with SGD (\n",
            "Parameter Group 0\n",
            "    dampening: 0\n",
            "    differentiable: False\n",
            "    foreach: None\n",
            "    lr: 0.01\n",
            "    maximize: False\n",
            "    momentum: 0\n",
            "    nesterov: False\n",
            "    weight_decay: 1e-05\n",
            ")\n",
            "Epoch 1 - Train Loss: 1.816, Test Loss: 0.878, Accuracy: 0.785\n",
            "Epoch 2 - Train Loss: 0.593, Test Loss: 0.431, Accuracy: 0.882\n",
            "Epoch 3 - Train Loss: 0.405, Test Loss: 0.356, Accuracy: 0.898\n",
            "Epoch 4 - Train Loss: 0.353, Test Loss: 0.319, Accuracy: 0.907\n",
            "Epoch 5 - Train Loss: 0.323, Test Loss: 0.299, Accuracy: 0.912\n",
            "Epoch 6 - Train Loss: 0.300, Test Loss: 0.280, Accuracy: 0.919\n",
            "Epoch 7 - Train Loss: 0.282, Test Loss: 0.267, Accuracy: 0.924\n",
            "Epoch 8 - Train Loss: 0.265, Test Loss: 0.250, Accuracy: 0.929\n",
            "Epoch 9 - Train Loss: 0.250, Test Loss: 0.238, Accuracy: 0.931\n",
            "Epoch 10 - Train Loss: 0.237, Test Loss: 0.225, Accuracy: 0.934\n"
          ]
        },
        {
          "data": {
            "image/png": "[encoded data removed]",
            "text/plain": [
              "<Figure size 432x288 with 1 Axes>"
            ]
          },
          "metadata": {},
          "output_type": "display_data"
        },
        {
          "metadata": {
            "tags": null
          },
          "name": "stdout",
          "output_type": "stream",
          "text": [
            "Training with RMSprop (\n",
            "Parameter Group 0\n",
            "    alpha: 0.99\n",
            "    centered: False\n",
            "    differentiable: False\n",
            "    eps: 1e-08\n",
            "    foreach: None\n",
            "    lr: 0.001\n",
            "    maximize: False\n",
            "    momentum: 0\n",
            "    weight_decay: 0\n",
            ")\n",
            "Epoch 1 - Train Loss: 0.281, Test Loss: 0.149, Accuracy: 0.954\n",
            "Epoch 2 - Train Loss: 0.125, Test Loss: 0.116, Accuracy: 0.965\n",
            "Epoch 3 - Train Loss: 0.086, Test Loss: 0.089, Accuracy: 0.972\n",
            "Epoch 4 - Train Loss: 0.066, Test Loss: 0.082, Accuracy: 0.975\n",
            "Epoch 5 - Train Loss: 0.051, Test Loss: 0.093, Accuracy: 0.971\n",
            "Epoch 6 - Train Loss: 0.040, Test Loss: 0.096, Accuracy: 0.973\n",
            "Epoch 7 - Train Loss: 0.033, Test Loss: 0.092, Accuracy: 0.974\n",
            "Epoch 8 - Train Loss: 0.027, Test Loss: 0.092, Accuracy: 0.974\n",
            "Epoch 9 - Train Loss: 0.022, Test Loss: 0.079, Accuracy: 0.980\n",
            "Epoch 10 - Train Loss: 0.020, Test Loss: 0.088, Accuracy: 0.978\n"
          ]
        },
        {
          "data": {
            "image/png": "[encoded data removed]",
            "text/plain": [
              "<Figure size 432x288 with 1 Axes>"
            ]
          },
          "metadata": {},
          "output_type": "display_data"
        },
        {
          "output_type": "stream",
          "name": "stdout",
          "text": [
            "Training with Adam (\n",
            "Parameter Group 0\n",
            "    amsgrad: False\n",
            "    betas: (0.9, 0.999)\n",
            "    capturable: False\n",
            "    differentiable: False\n",
            "    eps: 1e-08\n",
            "    foreach: None\n",
            "    fused: False\n",
            "    lr: 0.001\n",
            "    maximize: False\n",
            "    weight_decay: 0\n",
            ")\n",
            "Epoch 1 - Train Loss: 0.353, Test Loss: 0.177, Accuracy: 0.947\n",
            "Epoch 2 - Train Loss: 0.149, Test Loss: 0.118, Accuracy: 0.965\n",
            "Epoch 3 - Train Loss: 0.101, Test Loss: 0.097, Accuracy: 0.970\n",
            "Epoch 4 - Train Loss: 0.076, Test Loss: 0.082, Accuracy: 0.975\n",
            "Epoch 5 - Train Loss: 0.060, Test Loss: 0.080, Accuracy: 0.975\n",
            "Epoch 6 - Train Loss: 0.049, Test Loss: 0.084, Accuracy: 0.975\n",
            "Epoch 7 - Train Loss: 0.038, Test Loss: 0.075, Accuracy: 0.978\n",
            "Epoch 8 - Train Loss: 0.031, Test Loss: 0.076, Accuracy: 0.978\n",
            "Epoch 9 - Train Loss: 0.027, Test Loss: 0.071, Accuracy: 0.979\n",
            "Epoch 10 - Train Loss: 0.022, Test Loss: 0.076, Accuracy: 0.980\n"
          ]
        },
        {
          "output_type": "display_data",
          "data": {
            "text/plain": [
              "<Figure size 432x288 with 1 Axes>"
            ],
            "image/png": "[encoded data removed]"
          },
          "metadata": {
            "needs_background": "light"
          }
        },
        {
          "output_type": "stream",
          "name": "stdout",
          "text": [
            "Final Accuracy: 0.980\n"
          ]
        }
      ],
      "source": [
        "def train(model, optimizer, criterion, trainloader):\n",
        "    train_loss = 0.0\n",
        "    for images, labels in trainloader:\n",
        "        optimizer.zero_grad()\n",
        "        output = model(images)\n",
        "        loss = criterion(output, labels)\n",
        "        loss.backward()\n",
        "        optimizer.step()\n",
        "        train_loss += loss.item()*images.size(0)\n",
        "    return train_loss/len(trainloader.dataset)\n",
        "\n",
        "# Define a function to test the model\n",
        "def test(model, criterion, testloader):\n",
        "    test_loss = 0.0\n",
        "    correct = 0\n",
        "    total = 0\n",
        "    with torch.no_grad():\n",
        "        for images, labels in testloader:\n",
        "            output = model(images)\n",
        "            loss = criterion(output, labels)\n",
        "            test_loss += loss.item()*images.size(0)\n",
        "            _, predicted = torch.max(output.data, 1)\n",
        "            total += labels.size(0)\n",
        "            correct += (predicted == labels).sum().item()\n",
        "    return test_loss/len(testloader.dataset), correct/total\n",
        "\n",
        "# Define a function to plot the training and testing losses\n",
        "def plot_losses(train_losses, test_losses):\n",
        "    plt.plot(train_losses, label='Training Loss')\n",
        "    plt.plot(test_losses, label='Testing Loss')\n",
        "    plt.legend(frameon=False)\n",
        "    plt.show()\n",
        "\n",
        "# Train and test the model using different optimizers\n",
        "train_losses = []\n",
        "test_losses = []\n",
        "accuracies = []\n",
        "f1_scores = []\n",
        "\n",
        "optimizers = [optim.SGD(mlp1.parameters(), lr=0.01),\n",
        "              optim.SGD(mlp2.parameters(), lr=0.01, momentum=0.9),\n",
        "              optim.SGD(mlp3.parameters(), lr=0.01, weight_decay=1e-5),\n",
        "              optim.RMSprop(mlp4.parameters(), lr=0.001),\n",
        "              optim.Adam(mlp5.parameters(), lr=0.001)]\n",
        "\n",
        "model = [mlp1,mlp2,mlp3,mlp4,mlp5]\n",
        "criterion = [criterion1,criterion2,criterion3,criterion4,criterion5]\n",
        "ind=0\n",
        "for optimizer in optimizers:\n",
        "    print(f'Training with {optimizer}')\n",
        "    model[ind].train()\n",
        "\n",
        "    for epoch in range(10):\n",
        "        train_loss = train(model[ind], optimizer, criterion[ind], trainloader_minibatch)\n",
        "        test_loss, accuracy = test(model[ind], criterion[ind], testloader)\n",
        "        print(f'Epoch {epoch+1} - Train Loss: {train_loss:.3f}, Test Loss: {test_loss:.3f}, Accuracy: {accuracy:.3f}')\n",
        "        train_losses.append(train_loss)\n",
        "        test_losses.append(test_loss)\n",
        "        accuracies.append(accuracy)\n",
        "\n",
        "    # Plot the training and testing losses\n",
        "    ind+=1\n",
        "    plot_losses(train_losses[-10:], test_losses[-10:])\n",
        "    \n",
        "print(f'Final Accuracy: {accuracies[-1]:.3f}')"
      ]
    },
    {
      "cell_type": "code",
      "source": [
        "model[0].eval()\n",
        "\n",
        "y_true_train = []\n",
        "y_pred_train = []\n",
        "\n",
        "for images_train, labels_train in trainloader_minibatch:\n",
        "  output_train = model[0](images_train)\n",
        "  _, predicted_train = torch.max(output_train.data, 1)\n",
        "\n",
        "  y_true_train.extend(labels_train.tolist())\n",
        "  y_pred_train.extend(predicted_train.tolist())\n",
        "\n",
        "print('Train Classification Report:')\n",
        "print(classification_report(y_true_train,y_pred_train))\n",
        "\n",
        "y_true_test = []\n",
        "y_pred_test = []\n",
        "\n",
        "for images_test, labels_test in testloader:\n",
        "  output_test = model[0](images_test)\n",
        "  _, predicted_test = torch.max(output_test.data, 1)\n",
        "\n",
        "  y_true_test.extend(labels_test.tolist())\n",
        "  y_pred_test.extend(predicted_test.tolist())\n",
        "\n",
        "print('Test Classification Report:')\n",
        "print(classification_report(y_true_test,y_pred_test))"
      ],
      "metadata": {
        "colab": {
          "base_uri": "https://localhost:8080/"
        },
        "id": "9sJIN6riTKcf",
        "outputId": "896d714b-6c80-4f64-cc00-f521193844aa"
      },
      "id": "9sJIN6riTKcf",
      "execution_count": 101,
      "outputs": [
        {
          "output_type": "stream",
          "name": "stdout",
          "text": [
            "Train Classification Report:\n",
            "              precision    recall  f1-score   support\n",
            "\n",
            "           0       0.97      0.98      0.98      5923\n",
            "           1       0.97      0.98      0.98      6742\n",
            "           2       0.96      0.96      0.96      5958\n",
            "           3       0.97      0.94      0.95      6131\n",
            "           4       0.96      0.96      0.96      5842\n",
            "           5       0.95      0.96      0.96      5421\n",
            "           6       0.97      0.97      0.97      5918\n",
            "           7       0.97      0.97      0.97      6265\n",
            "           8       0.95      0.95      0.95      5851\n",
            "           9       0.95      0.94      0.95      5949\n",
            "\n",
            "    accuracy                           0.96     60000\n",
            "   macro avg       0.96      0.96      0.96     60000\n",
            "weighted avg       0.96      0.96      0.96     60000\n",
            "\n",
            "Test Classification Report:\n",
            "              precision    recall  f1-score   support\n",
            "\n",
            "           0       0.96      0.98      0.97       980\n",
            "           1       0.98      0.98      0.98      1135\n",
            "           2       0.95      0.96      0.96      1032\n",
            "           3       0.95      0.95      0.95      1010\n",
            "           4       0.96      0.96      0.96       982\n",
            "           5       0.94      0.95      0.95       892\n",
            "           6       0.96      0.96      0.96       958\n",
            "           7       0.96      0.95      0.95      1028\n",
            "           8       0.94      0.95      0.94       974\n",
            "           9       0.96      0.93      0.94      1009\n",
            "\n",
            "    accuracy                           0.96     10000\n",
            "   macro avg       0.96      0.96      0.96     10000\n",
            "weighted avg       0.96      0.96      0.96     10000\n",
            "\n"
          ]
        }
      ]
    },
    {
      "cell_type": "markdown",
      "id": "d09ffca0",
      "metadata": {
        "jp-MarkdownHeadingCollapsed": true,
        "tags": [],
        "id": "d09ffca0"
      },
      "source": [
        "### Step five: Using SimpleMLP and Adam optimizer, train models using 2 different lr_schedulers.\n",
        "Select 2 of **MultiplicativeLR**, **MultiStepLR**, **LinearLR** and **ExponentialLR**\n",
        "\n",
        "Compare the results among different LR schedulers and the original model which didn't employ any LR scheduler. Compile results in a tabular form. Plot losses for each. Explain results."
      ]
    },
    {
      "cell_type": "code",
      "execution_count": 108,
      "id": "17e61fd6",
      "metadata": {
        "id": "17e61fd6",
        "colab": {
          "base_uri": "https://localhost:8080/",
          "height": 915
        },
        "outputId": "745b439e-2c6a-4cf6-dfae-49b19198b40d"
      },
      "outputs": [
        {
          "output_type": "stream",
          "name": "stdout",
          "text": [
            "Training with <torch.optim.lr_scheduler.ExponentialLR object at 0x7fa00d4d5160>\n",
            "Epoch 1 - Train Loss: 0.337, Test Loss: 0.179, Accuracy: 0.947\n",
            "Epoch 2 - Train Loss: 0.137, Test Loss: 0.123, Accuracy: 0.963\n",
            "Epoch 3 - Train Loss: 0.103, Test Loss: 0.110, Accuracy: 0.966\n",
            "Epoch 4 - Train Loss: 0.088, Test Loss: 0.101, Accuracy: 0.970\n",
            "Epoch 5 - Train Loss: 0.081, Test Loss: 0.099, Accuracy: 0.970\n",
            "Epoch 6 - Train Loss: 0.078, Test Loss: 0.098, Accuracy: 0.970\n",
            "Epoch 7 - Train Loss: 0.076, Test Loss: 0.097, Accuracy: 0.970\n",
            "Epoch 8 - Train Loss: 0.075, Test Loss: 0.097, Accuracy: 0.970\n",
            "Epoch 9 - Train Loss: 0.074, Test Loss: 0.097, Accuracy: 0.970\n",
            "Epoch 10 - Train Loss: 0.074, Test Loss: 0.096, Accuracy: 0.970\n"
          ]
        },
        {
          "output_type": "display_data",
          "data": {
            "text/plain": [
              "<Figure size 432x288 with 1 Axes>"
            ],
            "image/png": "[encoded data removed]"
          },
          "metadata": {
            "needs_background": "light"
          }
        },
        {
          "output_type": "stream",
          "name": "stdout",
          "text": [
            "Training with <torch.optim.lr_scheduler.MultiStepLR object at 0x7fa00d4d5340>\n",
            "Epoch 1 - Train Loss: 0.337, Test Loss: 0.196, Accuracy: 0.941\n",
            "Epoch 2 - Train Loss: 0.135, Test Loss: 0.116, Accuracy: 0.963\n",
            "Epoch 3 - Train Loss: 0.091, Test Loss: 0.086, Accuracy: 0.973\n",
            "Epoch 4 - Train Loss: 0.069, Test Loss: 0.087, Accuracy: 0.973\n",
            "Epoch 5 - Train Loss: 0.055, Test Loss: 0.088, Accuracy: 0.972\n",
            "Epoch 6 - Train Loss: 0.030, Test Loss: 0.067, Accuracy: 0.979\n",
            "Epoch 7 - Train Loss: 0.026, Test Loss: 0.065, Accuracy: 0.979\n",
            "Epoch 8 - Train Loss: 0.023, Test Loss: 0.066, Accuracy: 0.980\n",
            "Epoch 9 - Train Loss: 0.022, Test Loss: 0.068, Accuracy: 0.979\n",
            "Epoch 10 - Train Loss: 0.020, Test Loss: 0.066, Accuracy: 0.979\n"
          ]
        },
        {
          "output_type": "display_data",
          "data": {
            "text/plain": [
              "<Figure size 432x288 with 1 Axes>"
            ],
            "image/png": "[encoded data removed]"
          },
          "metadata": {
            "needs_background": "light"
          }
        },
        {
          "output_type": "stream",
          "name": "stdout",
          "text": [
            "Final Accuracy: 0.979\n"
          ]
        }
      ],
      "source": [
        "\n",
        "import torch.optim as optim\n",
        "from torch.optim.lr_scheduler import ExponentialLR, MultiStepLR\n",
        "\n",
        "mlp1 = SimpleMLP()\n",
        "mlp2 = SimpleMLP()\n",
        "criterion1 = nn.CrossEntropyLoss()\n",
        "criterion2 = nn.CrossEntropyLoss()\n",
        "criterion = [criterion1,criterion2]\n",
        "model = [mlp1,mlp2]\n",
        "optimizers = [optim.Adam(mlp1.parameters(), lr=0.001),optim.Adam(mlp2.parameters(), lr=0.001)]\n",
        "\n",
        "# Define a function to train the model\n",
        "def train(model, optimizer, criterion, trainloader):\n",
        "    train_loss = 0.0\n",
        "    for images, labels in trainloader:\n",
        "        optimizer.zero_grad()\n",
        "        output = model(images)\n",
        "        loss = criterion(output, labels)\n",
        "        loss.backward()\n",
        "        optimizer.step()\n",
        "        train_loss += loss.item()*images.size(0)\n",
        "    return train_loss/len(trainloader.dataset)\n",
        "\n",
        "# Define a function to test the model\n",
        "def test(model, criterion, testloader):\n",
        "    test_loss = 0.0\n",
        "    correct = 0\n",
        "    total = 0\n",
        "    with torch.no_grad():\n",
        "        for images, labels in testloader:\n",
        "            output = model(images)\n",
        "            loss = criterion(output, labels)\n",
        "            test_loss += loss.item()*images.size(0)\n",
        "            _, predicted = torch.max(output.data, 1)\n",
        "            total += labels.size(0)\n",
        "            correct += (predicted == labels).sum().item()\n",
        "    return test_loss/len(testloader.dataset), correct/total\n",
        "\n",
        "# Define a function to plot the training and testing losses\n",
        "def plot_losses(train_losses, test_losses):\n",
        "    plt.plot(train_losses, label='Training Loss')\n",
        "    plt.plot(test_losses, label='Testing Loss')\n",
        "    plt.legend(frameon=False)\n",
        "    plt.show()\n",
        "\n",
        "# Train and test the model using different lr_schedulers\n",
        "train_losses = []\n",
        "test_losses = []\n",
        "accuracies = []\n",
        "f1_scores = []\n",
        "\n",
        "schedulers = [ExponentialLR(optimizers[0], gamma = 0.5),\n",
        "              MultiStepLR(optimizers[1],milestones=[5],gamma=0.1)]\n",
        "\n",
        "ind = 0\n",
        "for scheduler in schedulers:\n",
        "    print(f'Training with {scheduler}')\n",
        "    model[ind].train()\n",
        "    \n",
        "    # Reset the optimizer and scheduler at the start of each run\n",
        "    optimizers[ind].zero_grad()\n",
        "    scheduler.last_epoch = -1\n",
        "    \n",
        "    for epoch in range(10):\n",
        "        # Update the learning rate according to the scheduler at each epoch\n",
        "        scheduler.step()\n",
        "        \n",
        "        train_loss = train(model[ind], optimizers[ind], criterion[ind], trainloader_minibatch)\n",
        "        test_loss, accuracy = test(model[ind], criterion[ind], testloader)\n",
        "        \n",
        "        print(f'Epoch {epoch+1} - Train Loss: {train_loss:.3f}, Test Loss: {test_loss:.3f}, Accuracy: {accuracy:.3f}')\n",
        "        \n",
        "        train_losses.append(train_loss)\n",
        "        test_losses.append(test_loss)\n",
        "        accuracies.append(accuracy)\n",
        "\n",
        "    # Plot the training and testing losses\n",
        "    ind+=1\n",
        "    plot_losses(train_losses[-10:], test_losses[-10:])\n",
        "    \n",
        "print(f'Final Accuracy: {accuracies[-1]:.3f}')"
      ]
    },
    {
      "cell_type": "code",
      "source": [
        "import pandas as pd\n",
        "ind = 0\n",
        "a = []\n",
        "results_df = pd.DataFrame(columns=['Scheduler', 'Accuracy'])\n",
        "for scheduler in ['ExponentialLR', 'MultiStepLR']:\n",
        "  model[ind].eval()\n",
        "  if scheduler == 'None':\n",
        "      optimizers[ind].zero_grad()\n",
        "      for epoch in range(10):\n",
        "          train_loss = train(model[ind], optimizers[ind], criterion[ind], trainloader_minibatch)\n",
        "          test_loss, accuracy = test(model[ind],criterion[ind],testloader)\n",
        "\n",
        "      results_df.loc[len(results_df)] = [scheduler,f'{accuracy:.3f}']\n",
        "      \n",
        "  elif scheduler == 'ExponentialLR':\n",
        "      optimizers[ind].zero_grad()\n",
        "      scheduler_mul_lr=optim.lr_scheduler.ExponentialLR(optimizers[ind],last_epoch=-1,gamma = 0.5)\n",
        "\n",
        "      for epoch in range(10):\n",
        "          scheduler_mul_lr.step()\n",
        "          train_loss=train(model=model[ind],\n",
        "                            optimizer=optimizers[ind],\n",
        "                            criterion=criterion[ind],\n",
        "                            trainloader=trainloader_minibatch)\n",
        "\n",
        "          test_loss,test_accuracy=test(model=model[ind],\n",
        "                                        criterion=criterion[ind],\n",
        "                                        testloader=testloader)\n",
        "\n",
        "      results_df.loc[len(results_df)] = [scheduler,f'{test_accuracy:.3f}']\n",
        "      \n",
        "  elif scheduler == 'MultiStepLR':\n",
        "      optimizers[ind].zero_grad()\n",
        "      milestones=[5]\n",
        "      gamma=0.1\n",
        "\n",
        "      scheduler_multi_step_lr=optim.lr_scheduler.MultiStepLR(optimizers[ind],\n",
        "                                                             milestones=milestones,gamma=0.1)\n",
        "      for epoch in range(10):\n",
        "          scheduler_mul_lr.step()\n",
        "          train_loss=train(model=model[ind],\n",
        "                            optimizer=optimizers[ind],\n",
        "                            criterion=criterion[ind],\n",
        "                            trainloader=trainloader_minibatch)\n",
        "\n",
        "          test_loss,test_accuracy=test(model=model[ind],\n",
        "                                        criterion=criterion[ind],\n",
        "                                        testloader=testloader)\n",
        "\n",
        "      results_df.loc[len(results_df)] = [scheduler,f'{test_accuracy:.3f}']\n",
        "  ind+=1"
      ],
      "metadata": {
        "id": "tGnHzBO3mkVw"
      },
      "id": "tGnHzBO3mkVw",
      "execution_count": 114,
      "outputs": []
    },
    {
      "cell_type": "code",
      "source": [
        "results_df"
      ],
      "metadata": {
        "colab": {
          "base_uri": "https://localhost:8080/",
          "height": 112
        },
        "id": "STWeIUbordo-",
        "outputId": "9af4d1ab-6a2f-4f21-b495-8bb4c9a07fba"
      },
      "id": "STWeIUbordo-",
      "execution_count": 115,
      "outputs": [
        {
          "output_type": "execute_result",
          "data": {
            "text/plain": [
              "       Scheduler Accuracy\n",
              "0  ExponentialLR    0.971\n",
              "1    MultiStepLR    0.980"
            ],
            "text/html": [
              "\n",
              "  <div id=\"df-5b302c14-7b8b-485a-98fa-5822566fdbf6\">\n",
              "    <div class=\"colab-df-container\">\n",
              "      <div>\n",
              "<style scoped>\n",
              "    .dataframe tbody tr th:only-of-type {\n",
              "        vertical-align: middle;\n",
              "    }\n",
              "\n",
              "    .dataframe tbody tr th {\n",
              "        vertical-align: top;\n",
              "    }\n",
              "\n",
              "    .dataframe thead th {\n",
              "        text-align: right;\n",
              "    }\n",
              "</style>\n",
              "<table border=\"1\" class=\"dataframe\">\n",
              "  <thead>\n",
              "    <tr style=\"text-align: right;\">\n",
              "      <th></th>\n",
              "      <th>Scheduler</th>\n",
              "      <th>Accuracy</th>\n",
              "    </tr>\n",
              "  </thead>\n",
              "  <tbody>\n",
              "    <tr>\n",
              "      <th>0</th>\n",
              "      <td>ExponentialLR</td>\n",
              "      <td>0.971</td>\n",
              "    </tr>\n",
              "    <tr>\n",
              "      <th>1</th>\n",
              "      <td>MultiStepLR</td>\n",
              "      <td>0.980</td>\n",
              "    </tr>\n",
              "  </tbody>\n",
              "</table>\n",
              "</div>\n",
              "      <button class=\"colab-df-convert\" onclick=\"convertToInteractive('df-5b302c14-7b8b-485a-98fa-5822566fdbf6')\"\n",
              "              title=\"Convert this dataframe to an interactive table.\"\n",
              "              style=\"display:none;\">\n",
              "        \n",
              "  <svg xmlns=\"http://www.w3.org/2000/svg\" height=\"24px\"viewBox=\"0 0 24 24\"\n",
              "       width=\"24px\">\n",
              "    <path d=\"M0 0h24v24H0V0z\" fill=\"none\"/>\n",
              "    <path d=\"M18.56 5.44l.94 2.06.94-2.06 2.06-.94-2.06-.94-.94-2.06-.94 2.06-2.06.94zm-11 1L8.5 8.5l.94-2.06 2.06-.94-2.06-.94L8.5 2.5l-.94 2.06-2.06.94zm10 10l.94 2.06.94-2.06 2.06-.94-2.06-.94-.94-2.06-.94 2.06-2.06.94z\"/><path d=\"M17.41 7.96l-1.37-1.37c-.4-.4-.92-.59-1.43-.59-.52 0-1.04.2-1.43.59L10.3 9.45l-7.72 7.72c-.78.78-.78 2.05 0 2.83L4 21.41c.39.39.9.59 1.41.59.51 0 1.02-.2 1.41-.59l7.78-7.78 2.81-2.81c.8-.78.8-2.07 0-2.86zM5.41 20L4 18.59l7.72-7.72 1.47 1.35L5.41 20z\"/>\n",
              "  </svg>\n",
              "      </button>\n",
              "      \n",
              "  <style>\n",
              "    .colab-df-container {\n",
              "      display:flex;\n",
              "      flex-wrap:wrap;\n",
              "      gap: 12px;\n",
              "    }\n",
              "\n",
              "    .colab-df-convert {\n",
              "      background-color: #E8F0FE;\n",
              "      border: none;\n",
              "      border-radius: 50%;\n",
              "      cursor: pointer;\n",
              "      display: none;\n",
              "      fill: #1967D2;\n",
              "      height: 32px;\n",
              "      padding: 0 0 0 0;\n",
              "      width: 32px;\n",
              "    }\n",
              "\n",
              "    .colab-df-convert:hover {\n",
              "      background-color: #E2EBFA;\n",
              "      box-shadow: 0px 1px 2px rgba(60, 64, 67, 0.3), 0px 1px 3px 1px rgba(60, 64, 67, 0.15);\n",
              "      fill: #174EA6;\n",
              "    }\n",
              "\n",
              "    [theme=dark] .colab-df-convert {\n",
              "      background-color: #3B4455;\n",
              "      fill: #D2E3FC;\n",
              "    }\n",
              "\n",
              "    [theme=dark] .colab-df-convert:hover {\n",
              "      background-color: #434B5C;\n",
              "      box-shadow: 0px 1px 3px 1px rgba(0, 0, 0, 0.15);\n",
              "      filter: drop-shadow(0px 1px 2px rgba(0, 0, 0, 0.3));\n",
              "      fill: #FFFFFF;\n",
              "    }\n",
              "  </style>\n",
              "\n",
              "      <script>\n",
              "        const buttonEl =\n",
              "          document.querySelector('#df-5b302c14-7b8b-485a-98fa-5822566fdbf6 button.colab-df-convert');\n",
              "        buttonEl.style.display =\n",
              "          google.colab.kernel.accessAllowed ? 'block' : 'none';\n",
              "\n",
              "        async function convertToInteractive(key) {\n",
              "          const element = document.querySelector('#df-5b302c14-7b8b-485a-98fa-5822566fdbf6');\n",
              "          const dataTable =\n",
              "            await google.colab.kernel.invokeFunction('convertToInteractive',\n",
              "                                                     [key], {});\n",
              "          if (!dataTable) return;\n",
              "\n",
              "          const docLinkHtml = 'Like what you see? Visit the ' +\n",
              "            '<a target=\"_blank\" href=https://colab.research.google.com/notebooks/data_table.ipynb>data table notebook</a>'\n",
              "            + ' to learn more about interactive tables.';\n",
              "          element.innerHTML = '';\n",
              "          dataTable['output_type'] = 'display_data';\n",
              "          await google.colab.output.renderOutput(dataTable, element);\n",
              "          const docLink = document.createElement('div');\n",
              "          docLink.innerHTML = docLinkHtml;\n",
              "          element.appendChild(docLink);\n",
              "        }\n",
              "      </script>\n",
              "    </div>\n",
              "  </div>\n",
              "  "
            ]
          },
          "metadata": {},
          "execution_count": 115
        }
      ]
    },
    {
      "cell_type": "markdown",
      "id": "91631d83",
      "metadata": {
        "jp-MarkdownHeadingCollapsed": true,
        "tags": [],
        "id": "91631d83"
      },
      "source": [
        "### Step six: Define 3 models with following changes:\n",
        "1. Add BatchNorm\n",
        "2. Add Dropout\n",
        "3. Add BatchNorm and Dropout"
      ]
    },
    {
      "cell_type": "code",
      "execution_count": 126,
      "id": "67d845a4",
      "metadata": {
        "id": "67d845a4"
      },
      "outputs": [],
      "source": [
        "# code here\n",
        "import torch.nn as nn\n",
        "import torch.nn.functional as F\n",
        "# Define a model with BatchNorm\n",
        "class ModelWithBatchNorm(nn.Module):\n",
        "    def __init__(self):\n",
        "        super(ModelWithBatchNorm, self).__init__()\n",
        "        self.fc1 = nn.Linear(784, 256)\n",
        "        self.bn1 = nn.BatchNorm1d(256)\n",
        "        self.fc2 = nn.Linear(256, 128)\n",
        "        self.bn2 = nn.BatchNorm1d(128)\n",
        "        self.fc3 = nn.Linear(128, 10)\n",
        "\n",
        "    def forward(self, x):\n",
        "        x = x.view(-1, 784)\n",
        "        x = self.fc1(x)\n",
        "        x = self.bn1(x)\n",
        "        x = nn.functional.relu(x)\n",
        "        x = self.fc2(x)\n",
        "        x = self.bn2(x)\n",
        "        x = nn.functional.relu(x)\n",
        "        x = self.fc3(x)\n",
        "        return x\n",
        "\n",
        "# Define a model with Dropout\n",
        "class ModelWithDropout(nn.Module):\n",
        "    def __init__(self):\n",
        "        super(ModelWithDropout, self).__init__()\n",
        "        self.fc1 = nn.Linear(784, 256)\n",
        "        self.dropout1 = nn.Dropout(p=0.5)\n",
        "        self.fc2 = nn.Linear(256, 128)\n",
        "        self.dropout2 = nn.Dropout(p=0.5)\n",
        "        self.fc3 = nn.Linear(128, 10)\n",
        "\n",
        "    def forward(self, x):\n",
        "        x = x.view(-1, 784)\n",
        "        x = self.fc1(x)\n",
        "        x = nn.functional.relu(x)\n",
        "        x = self.dropout1(x)\n",
        "        x = self.fc2(x)\n",
        "        x = nn.functional.relu(x)\n",
        "        x = self.dropout2(x)\n",
        "        x = self.fc3(x)\n",
        "        return x\n",
        "\n",
        "# Define a model with BatchNorm and Dropout\n",
        "class ModelWithBatchNormAndDropout(nn.Module):\n",
        "    def __init__(self):\n",
        "        super(ModelWithBatchNormAndDropout, self).__init__()\n",
        "        self.fc1 = nn.Linear(28*28, 256)\n",
        "        self.bn1 = nn.BatchNorm1d(256)\n",
        "        self.fc2 = nn.Linear(256, 64)\n",
        "        self.bn2 = nn.BatchNorm1d(64)\n",
        "        self.fc3 = nn.Linear(64, 10)\n",
        "        self.dropout = nn.Dropout(0.2)\n",
        "\n",
        "    def forward(self, x):\n",
        "        x = x.view(-1, 784)\n",
        "        x = torch.relu(self.bn1(self.fc1(x)))\n",
        "        x = self.dropout(x)\n",
        "        x = torch.relu(self.bn2(self.fc2(x)))\n",
        "        x = self.dropout(x)\n",
        "        x = self.fc3(x)\n",
        "        return x"
      ]
    },
    {
      "cell_type": "markdown",
      "id": "adc3d78f",
      "metadata": {
        "jp-MarkdownHeadingCollapsed": true,
        "tags": [],
        "id": "adc3d78f"
      },
      "source": [
        "### Step seven: Train the above models and compare with SimpleMLP.\n",
        "\n",
        "Use your choice of optimizer, use no lr_scheduler so as to re-use the previous results.\n",
        "\n",
        "Perform analysis. You've got the drill by now."
      ]
    },
    {
      "cell_type": "code",
      "execution_count": 127,
      "id": "0a86605f",
      "metadata": {
        "id": "0a86605f",
        "colab": {
          "base_uri": "https://localhost:8080/",
          "height": 1000
        },
        "outputId": "89b07dfc-7239-4d13-c7d4-aef0dac3a74c"
      },
      "outputs": [
        {
          "output_type": "stream",
          "name": "stdout",
          "text": [
            "Training with ModelWithBatchNormAndDropout(\n",
            "  (fc1): Linear(in_features=784, out_features=256, bias=True)\n",
            "  (bn1): BatchNorm1d(256, eps=1e-05, momentum=0.1, affine=True, track_running_stats=True)\n",
            "  (fc2): Linear(in_features=256, out_features=64, bias=True)\n",
            "  (bn2): BatchNorm1d(64, eps=1e-05, momentum=0.1, affine=True, track_running_stats=True)\n",
            "  (fc3): Linear(in_features=64, out_features=10, bias=True)\n",
            "  (dropout): Dropout(p=0.2, inplace=False)\n",
            ")\n",
            "Epoch 1 - Train Loss: 0.671, Test Loss: 0.336, Accuracy: 0.916\n",
            "Epoch 2 - Train Loss: 0.298, Test Loss: 0.242, Accuracy: 0.936\n",
            "Epoch 3 - Train Loss: 0.227, Test Loss: 0.200, Accuracy: 0.943\n",
            "Epoch 4 - Train Loss: 0.191, Test Loss: 0.172, Accuracy: 0.952\n",
            "Epoch 5 - Train Loss: 0.167, Test Loss: 0.158, Accuracy: 0.953\n",
            "Epoch 6 - Train Loss: 0.148, Test Loss: 0.152, Accuracy: 0.956\n",
            "Epoch 7 - Train Loss: 0.134, Test Loss: 0.139, Accuracy: 0.959\n",
            "Epoch 8 - Train Loss: 0.125, Test Loss: 0.139, Accuracy: 0.959\n",
            "Epoch 9 - Train Loss: 0.117, Test Loss: 0.135, Accuracy: 0.960\n",
            "Epoch 10 - Train Loss: 0.110, Test Loss: 0.125, Accuracy: 0.962\n"
          ]
        },
        {
          "output_type": "display_data",
          "data": {
            "text/plain": [
              "<Figure size 432x288 with 1 Axes>"
            ],
            "image/png": "[encoded data removed]"
          },
          "metadata": {
            "needs_background": "light"
          }
        },
        {
          "output_type": "stream",
          "name": "stdout",
          "text": [
            "Training with ModelWithDropout(\n",
            "  (fc1): Linear(in_features=784, out_features=256, bias=True)\n",
            "  (dropout1): Dropout(p=0.5, inplace=False)\n",
            "  (fc2): Linear(in_features=256, out_features=128, bias=True)\n",
            "  (dropout2): Dropout(p=0.5, inplace=False)\n",
            "  (fc3): Linear(in_features=128, out_features=10, bias=True)\n",
            ")\n",
            "Epoch 1 - Train Loss: 1.884, Test Loss: 1.164, Accuracy: 0.639\n",
            "Epoch 2 - Train Loss: 0.882, Test Loss: 0.695, Accuracy: 0.792\n",
            "Epoch 3 - Train Loss: 0.627, Test Loss: 0.538, Accuracy: 0.841\n",
            "Epoch 4 - Train Loss: 0.522, Test Loss: 0.472, Accuracy: 0.863\n",
            "Epoch 5 - Train Loss: 0.459, Test Loss: 0.415, Accuracy: 0.879\n",
            "Epoch 6 - Train Loss: 0.416, Test Loss: 0.392, Accuracy: 0.884\n",
            "Epoch 7 - Train Loss: 0.385, Test Loss: 0.360, Accuracy: 0.899\n",
            "Epoch 8 - Train Loss: 0.357, Test Loss: 0.340, Accuracy: 0.901\n",
            "Epoch 9 - Train Loss: 0.336, Test Loss: 0.311, Accuracy: 0.910\n",
            "Epoch 10 - Train Loss: 0.317, Test Loss: 0.293, Accuracy: 0.910\n"
          ]
        },
        {
          "output_type": "display_data",
          "data": {
            "text/plain": [
              "<Figure size 432x288 with 1 Axes>"
            ],
            "image/png": "[encoded data removed]"
          },
          "metadata": {
            "needs_background": "light"
          }
        },
        {
          "output_type": "stream",
          "name": "stdout",
          "text": [
            "Training with ModelWithBatchNorm(\n",
            "  (fc1): Linear(in_features=784, out_features=256, bias=True)\n",
            "  (bn1): BatchNorm1d(256, eps=1e-05, momentum=0.1, affine=True, track_running_stats=True)\n",
            "  (fc2): Linear(in_features=256, out_features=128, bias=True)\n",
            "  (bn2): BatchNorm1d(128, eps=1e-05, momentum=0.1, affine=True, track_running_stats=True)\n",
            "  (fc3): Linear(in_features=128, out_features=10, bias=True)\n",
            ")\n",
            "Epoch 1 - Train Loss: 0.468, Test Loss: 0.220, Accuracy: 0.944\n",
            "Epoch 2 - Train Loss: 0.184, Test Loss: 0.153, Accuracy: 0.959\n",
            "Epoch 3 - Train Loss: 0.130, Test Loss: 0.124, Accuracy: 0.966\n",
            "Epoch 4 - Train Loss: 0.101, Test Loss: 0.110, Accuracy: 0.969\n",
            "Epoch 5 - Train Loss: 0.083, Test Loss: 0.100, Accuracy: 0.972\n",
            "Epoch 6 - Train Loss: 0.069, Test Loss: 0.096, Accuracy: 0.972\n",
            "Epoch 7 - Train Loss: 0.058, Test Loss: 0.089, Accuracy: 0.973\n",
            "Epoch 8 - Train Loss: 0.051, Test Loss: 0.087, Accuracy: 0.976\n",
            "Epoch 9 - Train Loss: 0.043, Test Loss: 0.086, Accuracy: 0.974\n",
            "Epoch 10 - Train Loss: 0.038, Test Loss: 0.084, Accuracy: 0.974\n"
          ]
        },
        {
          "output_type": "display_data",
          "data": {
            "text/plain": [
              "<Figure size 432x288 with 1 Axes>"
            ],
            "image/png": "[encoded data removed]"
          },
          "metadata": {
            "needs_background": "light"
          }
        },
        {
          "output_type": "stream",
          "name": "stdout",
          "text": [
            "Final Accuracy: 0.974\n"
          ]
        }
      ],
      "source": [
        "def train(model, optimizer, criterion, trainloader):\n",
        "    train_loss = 0.0\n",
        "    for images, labels in trainloader:\n",
        "        optimizer.zero_grad()\n",
        "        output = model(images)\n",
        "        loss = criterion(output, labels)\n",
        "        loss.backward()\n",
        "        optimizer.step()\n",
        "        train_loss += loss.item()*images.size(0)\n",
        "    return train_loss/len(trainloader.dataset)\n",
        "\n",
        "# Define a function to test the model\n",
        "def test(model, criterion, testloader):\n",
        "    test_loss = 0.0\n",
        "    correct = 0\n",
        "    total = 0\n",
        "    with torch.no_grad():\n",
        "        for images, labels in testloader:\n",
        "            output = model(images)\n",
        "            loss = criterion(output, labels)\n",
        "            test_loss += loss.item()*images.size(0)\n",
        "            _, predicted = torch.max(output.data, 1)\n",
        "            total += labels.size(0)\n",
        "            correct += (predicted == labels).sum().item()\n",
        "    return test_loss/len(testloader.dataset), correct/total\n",
        "\n",
        "# Define a function to plot the training and testing losses\n",
        "def plot_losses(train_losses, test_losses):\n",
        "    plt.plot(train_losses, label='Training Loss')\n",
        "    plt.plot(test_losses, label='Testing Loss')\n",
        "    plt.legend(frameon=False)\n",
        "    plt.show()\n",
        "\n",
        "# Train and test the model using different optimizers\n",
        "train_losses = []\n",
        "test_losses = []\n",
        "accuracies = []\n",
        "f1_scores = []\n",
        "\n",
        "mlp1 = ModelWithBatchNormAndDropout() \n",
        "mlp2 = ModelWithDropout()\n",
        "mlp3 = ModelWithBatchNorm()\n",
        "criterion1 = nn.CrossEntropyLoss()\n",
        "criterion2 = nn.CrossEntropyLoss()\n",
        "criterion3 = nn.CrossEntropyLoss()\n",
        "optimizer1 = optim.SGD(mlp1.parameters(), lr=0.01)\n",
        "optimizer2 = optim.SGD(mlp2.parameters(), lr=0.01)\n",
        "optimizer3 = optim.SGD(mlp3.parameters(), lr=0.01)\n",
        "model = [mlp1,mlp2,mlp3]\n",
        "optimizers = [optimizer1,optimizer2,optimizer3]\n",
        "criterion = [criterion1,criterion2,criterion3]\n",
        "ind=0\n",
        "for optimizer in optimizers:\n",
        "    print(f'Training with {model[ind]}')\n",
        "    model[ind].train()\n",
        "\n",
        "    for epoch in range(10):\n",
        "        train_loss = train(model[ind], optimizer, criterion[ind], trainloader_minibatch)\n",
        "        test_loss, accuracy = test(model[ind], criterion[ind], testloader)\n",
        "        print(f'Epoch {epoch+1} - Train Loss: {train_loss:.3f}, Test Loss: {test_loss:.3f}, Accuracy: {accuracy:.3f}')\n",
        "        train_losses.append(train_loss)\n",
        "        test_losses.append(test_loss)\n",
        "        accuracies.append(accuracy)\n",
        "\n",
        "    # Plot the training and testing losses\n",
        "    ind+=1\n",
        "    plot_losses(train_losses[-10:], test_losses[-10:])\n",
        "    \n",
        "print(f'Final Accuracy: {accuracies[-1]:.3f}')"
      ]
    },
    {
      "cell_type": "code",
      "source": [
        "model[0].eval()\n",
        "\n",
        "y_true_train = []\n",
        "y_pred_train = []\n",
        "\n",
        "for images_train, labels_train in trainloader_minibatch:\n",
        "  output_train = model[0](images_train)\n",
        "  _, predicted_train = torch.max(output_train.data, 1)\n",
        "\n",
        "  y_true_train.extend(labels_train.tolist())\n",
        "  y_pred_train.extend(predicted_train.tolist())\n",
        "\n",
        "print('Train Classification Report:')\n",
        "print(classification_report(y_true_train,y_pred_train))\n",
        "\n",
        "y_true_test = []\n",
        "y_pred_test = []\n",
        "\n",
        "for images_test, labels_test in testloader:\n",
        "  output_test = model[0](images_test)\n",
        "  _, predicted_test = torch.max(output_test.data, 1)\n",
        "\n",
        "  y_true_test.extend(labels_test.tolist())\n",
        "  y_pred_test.extend(predicted_test.tolist())\n",
        "\n",
        "print('Test Classification Report:')\n",
        "print(classification_report(y_true_test,y_pred_test))"
      ],
      "metadata": {
        "colab": {
          "base_uri": "https://localhost:8080/"
        },
        "id": "oc-3sO3uv62g",
        "outputId": "872d6cb2-b2ba-461e-b68e-4915ee75721b"
      },
      "id": "oc-3sO3uv62g",
      "execution_count": 121,
      "outputs": [
        {
          "output_type": "stream",
          "name": "stdout",
          "text": [
            "Train Classification Report:\n",
            "              precision    recall  f1-score   support\n",
            "\n",
            "           0       1.00      1.00      1.00      5923\n",
            "           1       1.00      1.00      1.00      6742\n",
            "           2       0.99      1.00      0.99      5958\n",
            "           3       0.99      1.00      0.99      6131\n",
            "           4       1.00      0.99      0.99      5842\n",
            "           5       0.99      1.00      0.99      5421\n",
            "           6       0.99      1.00      1.00      5918\n",
            "           7       1.00      0.99      0.99      6265\n",
            "           8       1.00      0.99      1.00      5851\n",
            "           9       0.98      0.99      0.99      5949\n",
            "\n",
            "    accuracy                           0.99     60000\n",
            "   macro avg       0.99      0.99      0.99     60000\n",
            "weighted avg       0.99      0.99      0.99     60000\n",
            "\n",
            "Test Classification Report:\n",
            "              precision    recall  f1-score   support\n",
            "\n",
            "           0       0.98      0.99      0.99       980\n",
            "           1       0.99      0.99      0.99      1135\n",
            "           2       0.98      0.98      0.98      1032\n",
            "           3       0.96      0.99      0.98      1010\n",
            "           4       0.99      0.97      0.98       982\n",
            "           5       0.99      0.98      0.98       892\n",
            "           6       0.99      0.98      0.98       958\n",
            "           7       0.99      0.96      0.98      1028\n",
            "           8       0.98      0.97      0.97       974\n",
            "           9       0.97      0.98      0.97      1009\n",
            "\n",
            "    accuracy                           0.98     10000\n",
            "   macro avg       0.98      0.98      0.98     10000\n",
            "weighted avg       0.98      0.98      0.98     10000\n",
            "\n"
          ]
        }
      ]
    },
    {
      "cell_type": "markdown",
      "id": "159e3334",
      "metadata": {
        "jp-MarkdownHeadingCollapsed": true,
        "tags": [],
        "id": "159e3334"
      },
      "source": [
        "### Step eight: Mini-batch vs Stocastic\n",
        "Now that you might have a clear winner in your mind regarding which model and settings perform the best, train it on mini-batch and stocastic and compare time taken, loss curve, accuracy etc.\n",
        "\n",
        "Perform an analysis like never before!"
      ]
    },
    {
      "cell_type": "code",
      "execution_count": 123,
      "id": "fa6fd837",
      "metadata": {
        "id": "fa6fd837",
        "colab": {
          "base_uri": "https://localhost:8080/",
          "height": 914
        },
        "outputId": "dc5e9c85-61b7-4ef0-cd10-75cf03128eca"
      },
      "outputs": [
        {
          "metadata": {
            "tags": null
          },
          "name": "stdout",
          "output_type": "stream",
          "text": [
            "Training with <torch.utils.data.dataloader.DataLoader object at 0x7fa00ce2bfa0>\n",
            "Epoch 1 - Train Loss: 1.744, Test Loss: 0.818, Accuracy: 0.811\n",
            "Epoch 2 - Train Loss: 0.586, Test Loss: 0.437, Accuracy: 0.879\n",
            "Epoch 3 - Train Loss: 0.410, Test Loss: 0.357, Accuracy: 0.895\n",
            "Epoch 4 - Train Loss: 0.351, Test Loss: 0.321, Accuracy: 0.907\n",
            "Epoch 5 - Train Loss: 0.319, Test Loss: 0.296, Accuracy: 0.915\n",
            "Epoch 6 - Train Loss: 0.297, Test Loss: 0.281, Accuracy: 0.919\n",
            "Epoch 7 - Train Loss: 0.281, Test Loss: 0.266, Accuracy: 0.926\n",
            "Epoch 8 - Train Loss: 0.266, Test Loss: 0.253, Accuracy: 0.929\n",
            "Epoch 9 - Train Loss: 0.252, Test Loss: 0.242, Accuracy: 0.930\n",
            "Epoch 10 - Train Loss: 0.240, Test Loss: 0.231, Accuracy: 0.933\n"
          ]
        },
        {
          "data": {
            "image/png": "[encoded data removed]",
            "text/plain": [
              "<Figure size 432x288 with 1 Axes>"
            ]
          },
          "metadata": {},
          "output_type": "display_data"
        },
        {
          "output_type": "stream",
          "name": "stdout",
          "text": [
            "Training with <torch.utils.data.dataloader.DataLoader object at 0x7fa00ce2bac0>\n",
            "Epoch 1 - Train Loss: 0.256, Test Loss: 0.122, Accuracy: 0.961\n",
            "Epoch 2 - Train Loss: 0.110, Test Loss: 0.107, Accuracy: 0.969\n",
            "Epoch 3 - Train Loss: 0.080, Test Loss: 0.100, Accuracy: 0.971\n",
            "Epoch 4 - Train Loss: 0.066, Test Loss: 0.089, Accuracy: 0.972\n",
            "Epoch 5 - Train Loss: 0.052, Test Loss: 0.077, Accuracy: 0.978\n",
            "Epoch 6 - Train Loss: 0.043, Test Loss: 0.089, Accuracy: 0.975\n",
            "Epoch 7 - Train Loss: 0.039, Test Loss: 0.090, Accuracy: 0.975\n",
            "Epoch 8 - Train Loss: 0.036, Test Loss: 0.091, Accuracy: 0.977\n",
            "Epoch 9 - Train Loss: 0.030, Test Loss: 0.103, Accuracy: 0.972\n",
            "Epoch 10 - Train Loss: 0.023, Test Loss: 0.087, Accuracy: 0.978\n"
          ]
        },
        {
          "output_type": "display_data",
          "data": {
            "text/plain": [
              "<Figure size 432x288 with 1 Axes>"
            ],
            "image/png": "[encoded data removed]"
          },
          "metadata": {
            "needs_background": "light"
          }
        },
        {
          "output_type": "stream",
          "name": "stdout",
          "text": [
            "Final Accuracy: 0.978\n"
          ]
        }
      ],
      "source": [
        "# code here\n",
        "def train(model, optimizer, criterion, trainloader):\n",
        "    train_loss = 0.0\n",
        "    for images, labels in trainloader:\n",
        "        optimizer.zero_grad()\n",
        "        output = model(images)\n",
        "        loss = criterion(output, labels)\n",
        "        loss.backward()\n",
        "        optimizer.step()\n",
        "        train_loss += loss.item()*images.size(0)\n",
        "    return train_loss/len(trainloader.dataset)\n",
        "\n",
        "# Define a function to test the model\n",
        "def test(model, criterion, testloader):\n",
        "    test_loss = 0.0\n",
        "    correct = 0\n",
        "    total = 0\n",
        "    with torch.no_grad():\n",
        "        for images, labels in testloader:\n",
        "            output = model(images)\n",
        "            loss = criterion(output, labels)\n",
        "            test_loss += loss.item()*images.size(0)\n",
        "            _, predicted = torch.max(output.data, 1)\n",
        "            total += labels.size(0)\n",
        "            correct += (predicted == labels).sum().item()\n",
        "    return test_loss/len(testloader.dataset), correct/total\n",
        "\n",
        "# Define a function to plot the training and testing losses\n",
        "def plot_losses(train_losses, test_losses):\n",
        "    plt.plot(train_losses, label='Training Loss')\n",
        "    plt.plot(test_losses, label='Testing Loss')\n",
        "    plt.legend(frameon=False)\n",
        "    plt.show()\n",
        "\n",
        "# Train and test the model using different optimizers\n",
        "train_losses = []\n",
        "test_losses = []\n",
        "accuracies = []\n",
        "f1_scores = []\n",
        "\n",
        "mlp1 = SimpleMLP() \n",
        "mlp2 = SimpleMLP()\n",
        "criterion1 = nn.CrossEntropyLoss()\n",
        "criterion2 = nn.CrossEntropyLoss()\n",
        "optimizer1 = optim.SGD(mlp1.parameters(), lr=0.01)\n",
        "optimizer2 = optim.SGD(mlp2.parameters(), lr=0.01)\n",
        "model = [mlp1,mlp2]\n",
        "optimizers = [optimizer1,optimizer2]\n",
        "criterion = [criterion1,criterion2]\n",
        "ds = [trainloader_minibatch,trainloader_stochastic]\n",
        "ind=0\n",
        "for optimizer in optimizers:\n",
        "    print(f'Training with {ds[ind]}')\n",
        "    model[ind].train()\n",
        "\n",
        "    for epoch in range(10):\n",
        "        train_loss = train(model[ind], optimizer, criterion[ind], ds[ind])\n",
        "        test_loss, accuracy = test(model[ind], criterion[ind], testloader)\n",
        "        print(f'Epoch {epoch+1} - Train Loss: {train_loss:.3f}, Test Loss: {test_loss:.3f}, Accuracy: {accuracy:.3f}')\n",
        "        train_losses.append(train_loss)\n",
        "        test_losses.append(test_loss)\n",
        "        accuracies.append(accuracy)\n",
        "\n",
        "    # Plot the training and testing losses\n",
        "    ind+=1\n",
        "    plot_losses(train_losses[-10:], test_losses[-10:])\n",
        "    \n",
        "print(f'Final Accuracy: {accuracies[-1]:.3f}')"
      ]
    },
    {
      "cell_type": "markdown",
      "id": "d6f04f42",
      "metadata": {
        "jp-MarkdownHeadingCollapsed": true,
        "tags": [],
        "id": "d6f04f42"
      },
      "source": [
        "### And most importantly!!! What did we learn?\n",
        "Discuss any and all learnings here. The discussions must be all-encompassing so that we know what did you learn. \n",
        "\n",
        "Please do not copy from your friend or copy-paste from the internet. We can see repetitions during evaluations."
      ]
    },
    {
      "cell_type": "code",
      "execution_count": null,
      "id": "1717f8ce",
      "metadata": {
        "id": "1717f8ce"
      },
      "outputs": [],
      "source": [
        "# text here"
      ]
    }
  ],
  "metadata": {
    "kernelspec": {
      "display_name": "env",
      "language": "python",
      "name": "env"
    },
    "language_info": {
      "codemirror_mode": {
        "name": "ipython",
        "version": 3
      },
      "file_extension": ".py",
      "mimetype": "text/x-python",
      "name": "python",
      "nbconvert_exporter": "python",
      "pygments_lexer": "ipython3",
      "version": "3.8.10"
    },
    "colab": {
      "provenance": []
    }
  },
  "nbformat": 4,
  "nbformat_minor": 5
}