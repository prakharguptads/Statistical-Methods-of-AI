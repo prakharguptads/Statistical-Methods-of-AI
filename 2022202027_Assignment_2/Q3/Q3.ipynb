{
  "cells": [
    {
      "cell_type": "markdown",
      "id": "1bd3a4e9-5e71-4d5f-8582-c2141e186370",
      "metadata": {
        "id": "1bd3a4e9-5e71-4d5f-8582-c2141e186370"
      },
      "source": [
        "# SMAI Assignment - 2\n",
        "\n",
        "## Question - `3` : Multinomial Naïve Bayes\n",
        "\n",
        "| | |\n",
        "|- | -|\n",
        "| Course | Statistical Methods in AI |\n",
        "| Release Date | `16.02.2023` |\n",
        "| Due Date | `24.02.2023` |"
      ]
    },
    {
      "cell_type": "markdown",
      "id": "08fcb7b3-fc94-4ce9-b058-0b26a3b93f7a",
      "metadata": {
        "id": "08fcb7b3-fc94-4ce9-b058-0b26a3b93f7a"
      },
      "source": [
        "This question will have you working and experimenting with the Multinomial Naïve Bayes classifier. Initially, you will transform the given data in csv file to count matrix, then calculate the priors. Use those priors to compute likelyhoods according to Multinomial Naive Bayes and then classify the test data. Please note that use of `sklearn` implementations is only for the final question of the assignment, for other doubts regarding libraries you can reach out to the TAs.\n",
        "\n",
        "The dataset is about `Spam SMS`. There is 1 attribute that is the `message`, and the class label which could be `spam` or `ham`. The data is present in `spam.csv`. It contains about 5-6000 samples.\n",
        "For your convinience the data is already pre-processed and loaded, but I suggest you to just take a look at the code for your own knowledge, and parts vectorization is left up to you which could be easily done with the help of the given example code."
      ]
    },
    {
      "cell_type": "code",
      "execution_count": null,
      "id": "aa8a96d4-58f3-4360-b6ae-a02405ffdddb",
      "metadata": {
        "id": "aa8a96d4-58f3-4360-b6ae-a02405ffdddb"
      },
      "outputs": [],
      "source": [
        "import pandas as pd\n",
        "import numpy as np\n",
        "import matplotlib.pyplot as plt"
      ]
    },
    {
      "cell_type": "markdown",
      "id": "630170e6-57f8-4dae-b644-ab275a3f53a2",
      "metadata": {
        "tags": [],
        "id": "630170e6-57f8-4dae-b644-ab275a3f53a2"
      },
      "source": [
        "## Reading text-based data using pandas"
      ]
    },
    {
      "cell_type": "code",
      "execution_count": null,
      "id": "2430d4f2-e3ed-4e09-9e50-a446889d58cf",
      "metadata": {
        "colab": {
          "base_uri": "https://localhost:8080/",
          "height": 206
        },
        "id": "2430d4f2-e3ed-4e09-9e50-a446889d58cf",
        "outputId": "0a7368e9-fef6-4b31-cdea-2c054e4e3deb"
      },
      "outputs": [
        {
          "output_type": "execute_result",
          "data": {
            "text/plain": [
              "  label                                            message\n",
              "0   ham  Go until jurong point, crazy.. Available only ...\n",
              "1   ham                      Ok lar... Joking wif u oni...\n",
              "2  spam  Free entry in 2 a wkly comp to win FA Cup fina...\n",
              "3   ham  U dun say so early hor... U c already then say...\n",
              "4   ham  Nah I don't think he goes to usf, he lives aro..."
            ],
            "text/html": [
              "\n",
              "  <div id=\"df-28b73fe6-4883-4a58-adb9-69331d68767f\">\n",
              "    <div class=\"colab-df-container\">\n",
              "      <div>\n",
              "<style scoped>\n",
              "    .dataframe tbody tr th:only-of-type {\n",
              "        vertical-align: middle;\n",
              "    }\n",
              "\n",
              "    .dataframe tbody tr th {\n",
              "        vertical-align: top;\n",
              "    }\n",
              "\n",
              "    .dataframe thead th {\n",
              "        text-align: right;\n",
              "    }\n",
              "</style>\n",
              "<table border=\"1\" class=\"dataframe\">\n",
              "  <thead>\n",
              "    <tr style=\"text-align: right;\">\n",
              "      <th></th>\n",
              "      <th>label</th>\n",
              "      <th>message</th>\n",
              "    </tr>\n",
              "  </thead>\n",
              "  <tbody>\n",
              "    <tr>\n",
              "      <th>0</th>\n",
              "      <td>ham</td>\n",
              "      <td>Go until jurong point, crazy.. Available only ...</td>\n",
              "    </tr>\n",
              "    <tr>\n",
              "      <th>1</th>\n",
              "      <td>ham</td>\n",
              "      <td>Ok lar... Joking wif u oni...</td>\n",
              "    </tr>\n",
              "    <tr>\n",
              "      <th>2</th>\n",
              "      <td>spam</td>\n",
              "      <td>Free entry in 2 a wkly comp to win FA Cup fina...</td>\n",
              "    </tr>\n",
              "    <tr>\n",
              "      <th>3</th>\n",
              "      <td>ham</td>\n",
              "      <td>U dun say so early hor... U c already then say...</td>\n",
              "    </tr>\n",
              "    <tr>\n",
              "      <th>4</th>\n",
              "      <td>ham</td>\n",
              "      <td>Nah I don't think he goes to usf, he lives aro...</td>\n",
              "    </tr>\n",
              "  </tbody>\n",
              "</table>\n",
              "</div>\n",
              "      <button class=\"colab-df-convert\" onclick=\"convertToInteractive('df-28b73fe6-4883-4a58-adb9-69331d68767f')\"\n",
              "              title=\"Convert this dataframe to an interactive table.\"\n",
              "              style=\"display:none;\">\n",
              "        \n",
              "  <svg xmlns=\"http://www.w3.org/2000/svg\" height=\"24px\"viewBox=\"0 0 24 24\"\n",
              "       width=\"24px\">\n",
              "    <path d=\"M0 0h24v24H0V0z\" fill=\"none\"/>\n",
              "    <path d=\"M18.56 5.44l.94 2.06.94-2.06 2.06-.94-2.06-.94-.94-2.06-.94 2.06-2.06.94zm-11 1L8.5 8.5l.94-2.06 2.06-.94-2.06-.94L8.5 2.5l-.94 2.06-2.06.94zm10 10l.94 2.06.94-2.06 2.06-.94-2.06-.94-.94-2.06-.94 2.06-2.06.94z\"/><path d=\"M17.41 7.96l-1.37-1.37c-.4-.4-.92-.59-1.43-.59-.52 0-1.04.2-1.43.59L10.3 9.45l-7.72 7.72c-.78.78-.78 2.05 0 2.83L4 21.41c.39.39.9.59 1.41.59.51 0 1.02-.2 1.41-.59l7.78-7.78 2.81-2.81c.8-.78.8-2.07 0-2.86zM5.41 20L4 18.59l7.72-7.72 1.47 1.35L5.41 20z\"/>\n",
              "  </svg>\n",
              "      </button>\n",
              "      \n",
              "  <style>\n",
              "    .colab-df-container {\n",
              "      display:flex;\n",
              "      flex-wrap:wrap;\n",
              "      gap: 12px;\n",
              "    }\n",
              "\n",
              "    .colab-df-convert {\n",
              "      background-color: #E8F0FE;\n",
              "      border: none;\n",
              "      border-radius: 50%;\n",
              "      cursor: pointer;\n",
              "      display: none;\n",
              "      fill: #1967D2;\n",
              "      height: 32px;\n",
              "      padding: 0 0 0 0;\n",
              "      width: 32px;\n",
              "    }\n",
              "\n",
              "    .colab-df-convert:hover {\n",
              "      background-color: #E2EBFA;\n",
              "      box-shadow: 0px 1px 2px rgba(60, 64, 67, 0.3), 0px 1px 3px 1px rgba(60, 64, 67, 0.15);\n",
              "      fill: #174EA6;\n",
              "    }\n",
              "\n",
              "    [theme=dark] .colab-df-convert {\n",
              "      background-color: #3B4455;\n",
              "      fill: #D2E3FC;\n",
              "    }\n",
              "\n",
              "    [theme=dark] .colab-df-convert:hover {\n",
              "      background-color: #434B5C;\n",
              "      box-shadow: 0px 1px 3px 1px rgba(0, 0, 0, 0.15);\n",
              "      filter: drop-shadow(0px 1px 2px rgba(0, 0, 0, 0.3));\n",
              "      fill: #FFFFFF;\n",
              "    }\n",
              "  </style>\n",
              "\n",
              "      <script>\n",
              "        const buttonEl =\n",
              "          document.querySelector('#df-28b73fe6-4883-4a58-adb9-69331d68767f button.colab-df-convert');\n",
              "        buttonEl.style.display =\n",
              "          google.colab.kernel.accessAllowed ? 'block' : 'none';\n",
              "\n",
              "        async function convertToInteractive(key) {\n",
              "          const element = document.querySelector('#df-28b73fe6-4883-4a58-adb9-69331d68767f');\n",
              "          const dataTable =\n",
              "            await google.colab.kernel.invokeFunction('convertToInteractive',\n",
              "                                                     [key], {});\n",
              "          if (!dataTable) return;\n",
              "\n",
              "          const docLinkHtml = 'Like what you see? Visit the ' +\n",
              "            '<a target=\"_blank\" href=https://colab.research.google.com/notebooks/data_table.ipynb>data table notebook</a>'\n",
              "            + ' to learn more about interactive tables.';\n",
              "          element.innerHTML = '';\n",
              "          dataTable['output_type'] = 'display_data';\n",
              "          await google.colab.output.renderOutput(dataTable, element);\n",
              "          const docLink = document.createElement('div');\n",
              "          docLink.innerHTML = docLinkHtml;\n",
              "          element.appendChild(docLink);\n",
              "        }\n",
              "      </script>\n",
              "    </div>\n",
              "  </div>\n",
              "  "
            ]
          },
          "metadata": {},
          "execution_count": 2
        }
      ],
      "source": [
        "# read file into pandas using a relative path\n",
        "\n",
        "df = pd.read_csv(\"./spam.csv\", encoding='latin-1')\n",
        "df.dropna(how=\"any\", inplace=True, axis=1)\n",
        "df.columns = ['label', 'message']\n",
        "\n",
        "df.head()"
      ]
    },
    {
      "cell_type": "markdown",
      "id": "c5fbeec1-2b88-4af3-b8c6-906936938951",
      "metadata": {
        "id": "c5fbeec1-2b88-4af3-b8c6-906936938951"
      },
      "source": [
        "## Pre-processing\n",
        "\n",
        "- Our main issue with our data is that it is all in text format (strings). The classification algorithms that we usally use need some sort of numerical feature vector in order to perform the classification task. There are actually many methods to convert a corpus to a vector format. The simplest is the bag-of-words approach, where each unique word in a text will be represented by one number.\n",
        "\n",
        "- As a first step, let's write a function that will split a message into its individual words and return a list. We'll also remove very common words, ('the', 'a', etc..). To do this we will take advantage of the NLTK library. It's pretty much the standard library in Python for processing text and has a lot of useful features. We'll only use some of the basic ones here."
      ]
    },
    {
      "cell_type": "code",
      "execution_count": null,
      "id": "d736a35c-e849-4029-bee7-42a31f7d0b11",
      "metadata": {
        "colab": {
          "base_uri": "https://localhost:8080/"
        },
        "id": "d736a35c-e849-4029-bee7-42a31f7d0b11",
        "outputId": "433ef9d7-1762-455f-c501-9b6b2130048b"
      },
      "outputs": [
        {
          "output_type": "stream",
          "name": "stderr",
          "text": [
            "[nltk_data] Downloading package stopwords to /root/nltk_data...\n",
            "[nltk_data]   Unzipping corpora/stopwords.zip.\n"
          ]
        }
      ],
      "source": [
        "import string\n",
        "import nltk\n",
        "nltk.download('stopwords')\n",
        "\n",
        "from nltk.corpus import stopwords\n",
        "\n",
        "def text_process(mess):\n",
        "    \"\"\"\n",
        "    Takes in a string of text, then performs the following:\n",
        "    1. Remove all punctuation\n",
        "    2. Remove all stopwords\n",
        "    3. Returns a list of the cleaned text\n",
        "    \"\"\"\n",
        "    STOPWORDS = stopwords.words('english') + ['u', 'ü', 'ur', '4', '2', 'im', 'dont', 'doin', 'ure']\n",
        "    # Check characters to see if they are in punctuation\n",
        "    nopunc = [char for char in mess if char not in string.punctuation]\n",
        "\n",
        "    # Join the characters again to form the string.\n",
        "    nopunc = ''.join(nopunc)\n",
        "    \n",
        "    # Now just remove any stopwords\n",
        "    return ' '.join([word for word in nopunc.split() if word.lower() not in STOPWORDS])"
      ]
    },
    {
      "cell_type": "code",
      "execution_count": null,
      "id": "ed807b40-7762-4968-b546-2f72817beed3",
      "metadata": {
        "colab": {
          "base_uri": "https://localhost:8080/",
          "height": 206
        },
        "id": "ed807b40-7762-4968-b546-2f72817beed3",
        "outputId": "3748a1cd-329c-4a13-a717-45dd78b45397"
      },
      "outputs": [
        {
          "output_type": "execute_result",
          "data": {
            "text/plain": [
              "  label                                            message\n",
              "0   ham  Go jurong point crazy Available bugis n great ...\n",
              "1   ham                              Ok lar Joking wif oni\n",
              "2  spam  Free entry wkly comp win FA Cup final tkts 21s...\n",
              "3   ham                    dun say early hor c already say\n",
              "4   ham             Nah think goes usf lives around though"
            ],
            "text/html": [
              "\n",
              "  <div id=\"df-3dc364fd-63fe-4ddc-a163-709adf218a6c\">\n",
              "    <div class=\"colab-df-container\">\n",
              "      <div>\n",
              "<style scoped>\n",
              "    .dataframe tbody tr th:only-of-type {\n",
              "        vertical-align: middle;\n",
              "    }\n",
              "\n",
              "    .dataframe tbody tr th {\n",
              "        vertical-align: top;\n",
              "    }\n",
              "\n",
              "    .dataframe thead th {\n",
              "        text-align: right;\n",
              "    }\n",
              "</style>\n",
              "<table border=\"1\" class=\"dataframe\">\n",
              "  <thead>\n",
              "    <tr style=\"text-align: right;\">\n",
              "      <th></th>\n",
              "      <th>label</th>\n",
              "      <th>message</th>\n",
              "    </tr>\n",
              "  </thead>\n",
              "  <tbody>\n",
              "    <tr>\n",
              "      <th>0</th>\n",
              "      <td>ham</td>\n",
              "      <td>Go jurong point crazy Available bugis n great ...</td>\n",
              "    </tr>\n",
              "    <tr>\n",
              "      <th>1</th>\n",
              "      <td>ham</td>\n",
              "      <td>Ok lar Joking wif oni</td>\n",
              "    </tr>\n",
              "    <tr>\n",
              "      <th>2</th>\n",
              "      <td>spam</td>\n",
              "      <td>Free entry wkly comp win FA Cup final tkts 21s...</td>\n",
              "    </tr>\n",
              "    <tr>\n",
              "      <th>3</th>\n",
              "      <td>ham</td>\n",
              "      <td>dun say early hor c already say</td>\n",
              "    </tr>\n",
              "    <tr>\n",
              "      <th>4</th>\n",
              "      <td>ham</td>\n",
              "      <td>Nah think goes usf lives around though</td>\n",
              "    </tr>\n",
              "  </tbody>\n",
              "</table>\n",
              "</div>\n",
              "      <button class=\"colab-df-convert\" onclick=\"convertToInteractive('df-3dc364fd-63fe-4ddc-a163-709adf218a6c')\"\n",
              "              title=\"Convert this dataframe to an interactive table.\"\n",
              "              style=\"display:none;\">\n",
              "        \n",
              "  <svg xmlns=\"http://www.w3.org/2000/svg\" height=\"24px\"viewBox=\"0 0 24 24\"\n",
              "       width=\"24px\">\n",
              "    <path d=\"M0 0h24v24H0V0z\" fill=\"none\"/>\n",
              "    <path d=\"M18.56 5.44l.94 2.06.94-2.06 2.06-.94-2.06-.94-.94-2.06-.94 2.06-2.06.94zm-11 1L8.5 8.5l.94-2.06 2.06-.94-2.06-.94L8.5 2.5l-.94 2.06-2.06.94zm10 10l.94 2.06.94-2.06 2.06-.94-2.06-.94-.94-2.06-.94 2.06-2.06.94z\"/><path d=\"M17.41 7.96l-1.37-1.37c-.4-.4-.92-.59-1.43-.59-.52 0-1.04.2-1.43.59L10.3 9.45l-7.72 7.72c-.78.78-.78 2.05 0 2.83L4 21.41c.39.39.9.59 1.41.59.51 0 1.02-.2 1.41-.59l7.78-7.78 2.81-2.81c.8-.78.8-2.07 0-2.86zM5.41 20L4 18.59l7.72-7.72 1.47 1.35L5.41 20z\"/>\n",
              "  </svg>\n",
              "      </button>\n",
              "      \n",
              "  <style>\n",
              "    .colab-df-container {\n",
              "      display:flex;\n",
              "      flex-wrap:wrap;\n",
              "      gap: 12px;\n",
              "    }\n",
              "\n",
              "    .colab-df-convert {\n",
              "      background-color: #E8F0FE;\n",
              "      border: none;\n",
              "      border-radius: 50%;\n",
              "      cursor: pointer;\n",
              "      display: none;\n",
              "      fill: #1967D2;\n",
              "      height: 32px;\n",
              "      padding: 0 0 0 0;\n",
              "      width: 32px;\n",
              "    }\n",
              "\n",
              "    .colab-df-convert:hover {\n",
              "      background-color: #E2EBFA;\n",
              "      box-shadow: 0px 1px 2px rgba(60, 64, 67, 0.3), 0px 1px 3px 1px rgba(60, 64, 67, 0.15);\n",
              "      fill: #174EA6;\n",
              "    }\n",
              "\n",
              "    [theme=dark] .colab-df-convert {\n",
              "      background-color: #3B4455;\n",
              "      fill: #D2E3FC;\n",
              "    }\n",
              "\n",
              "    [theme=dark] .colab-df-convert:hover {\n",
              "      background-color: #434B5C;\n",
              "      box-shadow: 0px 1px 3px 1px rgba(0, 0, 0, 0.15);\n",
              "      filter: drop-shadow(0px 1px 2px rgba(0, 0, 0, 0.3));\n",
              "      fill: #FFFFFF;\n",
              "    }\n",
              "  </style>\n",
              "\n",
              "      <script>\n",
              "        const buttonEl =\n",
              "          document.querySelector('#df-3dc364fd-63fe-4ddc-a163-709adf218a6c button.colab-df-convert');\n",
              "        buttonEl.style.display =\n",
              "          google.colab.kernel.accessAllowed ? 'block' : 'none';\n",
              "\n",
              "        async function convertToInteractive(key) {\n",
              "          const element = document.querySelector('#df-3dc364fd-63fe-4ddc-a163-709adf218a6c');\n",
              "          const dataTable =\n",
              "            await google.colab.kernel.invokeFunction('convertToInteractive',\n",
              "                                                     [key], {});\n",
              "          if (!dataTable) return;\n",
              "\n",
              "          const docLinkHtml = 'Like what you see? Visit the ' +\n",
              "            '<a target=\"_blank\" href=https://colab.research.google.com/notebooks/data_table.ipynb>data table notebook</a>'\n",
              "            + ' to learn more about interactive tables.';\n",
              "          element.innerHTML = '';\n",
              "          dataTable['output_type'] = 'display_data';\n",
              "          await google.colab.output.renderOutput(dataTable, element);\n",
              "          const docLink = document.createElement('div');\n",
              "          docLink.innerHTML = docLinkHtml;\n",
              "          element.appendChild(docLink);\n",
              "        }\n",
              "      </script>\n",
              "    </div>\n",
              "  </div>\n",
              "  "
            ]
          },
          "metadata": {},
          "execution_count": 4
        }
      ],
      "source": [
        "df['message'] = df.message.apply(text_process)\n",
        "df.head()"
      ]
    },
    {
      "cell_type": "code",
      "execution_count": null,
      "id": "ad88d89f-1452-4e7a-9f9c-cb1094f890d1",
      "metadata": {
        "colab": {
          "base_uri": "https://localhost:8080/",
          "height": 206
        },
        "id": "ad88d89f-1452-4e7a-9f9c-cb1094f890d1",
        "outputId": "dd18bb8f-387e-42fd-c55d-2d8ea747acb0"
      },
      "outputs": [
        {
          "output_type": "execute_result",
          "data": {
            "text/plain": [
              "   label                                            message\n",
              "0      0  Go jurong point crazy Available bugis n great ...\n",
              "1      0                              Ok lar Joking wif oni\n",
              "2      1  Free entry wkly comp win FA Cup final tkts 21s...\n",
              "3      0                    dun say early hor c already say\n",
              "4      0             Nah think goes usf lives around though"
            ],
            "text/html": [
              "\n",
              "  <div id=\"df-383e118b-1c04-47fe-be10-b96830935aca\">\n",
              "    <div class=\"colab-df-container\">\n",
              "      <div>\n",
              "<style scoped>\n",
              "    .dataframe tbody tr th:only-of-type {\n",
              "        vertical-align: middle;\n",
              "    }\n",
              "\n",
              "    .dataframe tbody tr th {\n",
              "        vertical-align: top;\n",
              "    }\n",
              "\n",
              "    .dataframe thead th {\n",
              "        text-align: right;\n",
              "    }\n",
              "</style>\n",
              "<table border=\"1\" class=\"dataframe\">\n",
              "  <thead>\n",
              "    <tr style=\"text-align: right;\">\n",
              "      <th></th>\n",
              "      <th>label</th>\n",
              "      <th>message</th>\n",
              "    </tr>\n",
              "  </thead>\n",
              "  <tbody>\n",
              "    <tr>\n",
              "      <th>0</th>\n",
              "      <td>0</td>\n",
              "      <td>Go jurong point crazy Available bugis n great ...</td>\n",
              "    </tr>\n",
              "    <tr>\n",
              "      <th>1</th>\n",
              "      <td>0</td>\n",
              "      <td>Ok lar Joking wif oni</td>\n",
              "    </tr>\n",
              "    <tr>\n",
              "      <th>2</th>\n",
              "      <td>1</td>\n",
              "      <td>Free entry wkly comp win FA Cup final tkts 21s...</td>\n",
              "    </tr>\n",
              "    <tr>\n",
              "      <th>3</th>\n",
              "      <td>0</td>\n",
              "      <td>dun say early hor c already say</td>\n",
              "    </tr>\n",
              "    <tr>\n",
              "      <th>4</th>\n",
              "      <td>0</td>\n",
              "      <td>Nah think goes usf lives around though</td>\n",
              "    </tr>\n",
              "  </tbody>\n",
              "</table>\n",
              "</div>\n",
              "      <button class=\"colab-df-convert\" onclick=\"convertToInteractive('df-383e118b-1c04-47fe-be10-b96830935aca')\"\n",
              "              title=\"Convert this dataframe to an interactive table.\"\n",
              "              style=\"display:none;\">\n",
              "        \n",
              "  <svg xmlns=\"http://www.w3.org/2000/svg\" height=\"24px\"viewBox=\"0 0 24 24\"\n",
              "       width=\"24px\">\n",
              "    <path d=\"M0 0h24v24H0V0z\" fill=\"none\"/>\n",
              "    <path d=\"M18.56 5.44l.94 2.06.94-2.06 2.06-.94-2.06-.94-.94-2.06-.94 2.06-2.06.94zm-11 1L8.5 8.5l.94-2.06 2.06-.94-2.06-.94L8.5 2.5l-.94 2.06-2.06.94zm10 10l.94 2.06.94-2.06 2.06-.94-2.06-.94-.94-2.06-.94 2.06-2.06.94z\"/><path d=\"M17.41 7.96l-1.37-1.37c-.4-.4-.92-.59-1.43-.59-.52 0-1.04.2-1.43.59L10.3 9.45l-7.72 7.72c-.78.78-.78 2.05 0 2.83L4 21.41c.39.39.9.59 1.41.59.51 0 1.02-.2 1.41-.59l7.78-7.78 2.81-2.81c.8-.78.8-2.07 0-2.86zM5.41 20L4 18.59l7.72-7.72 1.47 1.35L5.41 20z\"/>\n",
              "  </svg>\n",
              "      </button>\n",
              "      \n",
              "  <style>\n",
              "    .colab-df-container {\n",
              "      display:flex;\n",
              "      flex-wrap:wrap;\n",
              "      gap: 12px;\n",
              "    }\n",
              "\n",
              "    .colab-df-convert {\n",
              "      background-color: #E8F0FE;\n",
              "      border: none;\n",
              "      border-radius: 50%;\n",
              "      cursor: pointer;\n",
              "      display: none;\n",
              "      fill: #1967D2;\n",
              "      height: 32px;\n",
              "      padding: 0 0 0 0;\n",
              "      width: 32px;\n",
              "    }\n",
              "\n",
              "    .colab-df-convert:hover {\n",
              "      background-color: #E2EBFA;\n",
              "      box-shadow: 0px 1px 2px rgba(60, 64, 67, 0.3), 0px 1px 3px 1px rgba(60, 64, 67, 0.15);\n",
              "      fill: #174EA6;\n",
              "    }\n",
              "\n",
              "    [theme=dark] .colab-df-convert {\n",
              "      background-color: #3B4455;\n",
              "      fill: #D2E3FC;\n",
              "    }\n",
              "\n",
              "    [theme=dark] .colab-df-convert:hover {\n",
              "      background-color: #434B5C;\n",
              "      box-shadow: 0px 1px 3px 1px rgba(0, 0, 0, 0.15);\n",
              "      filter: drop-shadow(0px 1px 2px rgba(0, 0, 0, 0.3));\n",
              "      fill: #FFFFFF;\n",
              "    }\n",
              "  </style>\n",
              "\n",
              "      <script>\n",
              "        const buttonEl =\n",
              "          document.querySelector('#df-383e118b-1c04-47fe-be10-b96830935aca button.colab-df-convert');\n",
              "        buttonEl.style.display =\n",
              "          google.colab.kernel.accessAllowed ? 'block' : 'none';\n",
              "\n",
              "        async function convertToInteractive(key) {\n",
              "          const element = document.querySelector('#df-383e118b-1c04-47fe-be10-b96830935aca');\n",
              "          const dataTable =\n",
              "            await google.colab.kernel.invokeFunction('convertToInteractive',\n",
              "                                                     [key], {});\n",
              "          if (!dataTable) return;\n",
              "\n",
              "          const docLinkHtml = 'Like what you see? Visit the ' +\n",
              "            '<a target=\"_blank\" href=https://colab.research.google.com/notebooks/data_table.ipynb>data table notebook</a>'\n",
              "            + ' to learn more about interactive tables.';\n",
              "          element.innerHTML = '';\n",
              "          dataTable['output_type'] = 'display_data';\n",
              "          await google.colab.output.renderOutput(dataTable, element);\n",
              "          const docLink = document.createElement('div');\n",
              "          docLink.innerHTML = docLinkHtml;\n",
              "          element.appendChild(docLink);\n",
              "        }\n",
              "      </script>\n",
              "    </div>\n",
              "  </div>\n",
              "  "
            ]
          },
          "metadata": {},
          "execution_count": 5
        }
      ],
      "source": [
        "df['label'] = df.label.map({'ham':0, 'spam':1})\n",
        "df.head()"
      ]
    },
    {
      "cell_type": "markdown",
      "id": "f22eddba-546a-4e97-b013-2906e90946b7",
      "metadata": {
        "id": "f22eddba-546a-4e97-b013-2906e90946b7"
      },
      "source": [
        "## Splitting the data"
      ]
    },
    {
      "cell_type": "code",
      "execution_count": null,
      "id": "f859993a-2b29-4baf-a168-117151ed240b",
      "metadata": {
        "colab": {
          "base_uri": "https://localhost:8080/"
        },
        "id": "f859993a-2b29-4baf-a168-117151ed240b",
        "outputId": "1ff55bd1-0ca1-4cb9-baab-036cf042fee0"
      },
      "outputs": [
        {
          "output_type": "stream",
          "name": "stdout",
          "text": [
            "X: (5572,)\n",
            "y: (5572,)\n",
            "\n",
            "X_train: (4179,)\n",
            "y_train: (4179,)\n",
            "\n",
            "X_test: (1393,)\n",
            "y_test: (1393,)\n",
            "\n"
          ]
        }
      ],
      "source": [
        "# split X and y into training and testing sets \n",
        "from sklearn.model_selection import train_test_split\n",
        "\n",
        "X = df.message\n",
        "y = df.label\n",
        "\n",
        "print(f'X: {X.shape}')\n",
        "print(f'y: {y.shape}')\n",
        "print()\n",
        "\n",
        "X_train, X_test, y_train, y_test = train_test_split(X, y, test_size=0.25, random_state=1)\n",
        "\n",
        "print(f'X_train: {X_train.shape}')\n",
        "print(f'y_train: {y_train.shape}')\n",
        "print()\n",
        "\n",
        "print(f'X_test: {X_test.shape}')\n",
        "print(f'y_test: {y_test.shape}')\n",
        "print()"
      ]
    },
    {
      "cell_type": "markdown",
      "id": "ba6deffc-0424-4cb6-85d2-eb74f97e8cdd",
      "metadata": {
        "tags": [],
        "id": "ba6deffc-0424-4cb6-85d2-eb74f97e8cdd"
      },
      "source": [
        "## Helper code / Example code for Representing text as Numerical data using Sci-kit learn\n",
        "\n",
        "📌 From the scikit-learn documentation:\n",
        "- Text Analysis is a major application field for machine learning algorithms. However the raw data, a sequence of symbols cannot be fed directly to the algorithms themselves as most of them expect numerical feature vectors with a fixed size rather than the raw text documents with variable length.\n",
        "- We will use CountVectorizer to \"convert text into a matrix of token counts\":"
      ]
    },
    {
      "cell_type": "code",
      "execution_count": null,
      "id": "1309604c-b9c1-4910-ab60-432f7e12824b",
      "metadata": {
        "id": "1309604c-b9c1-4910-ab60-432f7e12824b"
      },
      "outputs": [],
      "source": [
        "# example text for model training (SMS messages)\n",
        "simple_train = ['call you tonight', 'Call me a cab', 'Please call me... PLEASE!']"
      ]
    },
    {
      "cell_type": "code",
      "execution_count": null,
      "id": "0fde24ff-b303-4526-899d-fb902eabc1d8",
      "metadata": {
        "colab": {
          "base_uri": "https://localhost:8080/"
        },
        "id": "0fde24ff-b303-4526-899d-fb902eabc1d8",
        "outputId": "526dc91f-ea49-4b1c-aecc-8ed30b2242ff"
      },
      "outputs": [
        {
          "output_type": "execute_result",
          "data": {
            "text/plain": [
              "array(['cab', 'call', 'me', 'please', 'tonight', 'you'], dtype=object)"
            ]
          },
          "metadata": {},
          "execution_count": 8
        }
      ],
      "source": [
        "# import and instantiate CountVectorizer (with the default parameters)\n",
        "from sklearn.feature_extraction.text import CountVectorizer\n",
        "\n",
        "vect = CountVectorizer()\n",
        "simple_train = vect.fit_transform(simple_train)\n",
        "\n",
        "vect.get_feature_names_out()"
      ]
    },
    {
      "cell_type": "code",
      "execution_count": null,
      "id": "576f6e05-6e94-45a1-96cc-3e694cc971d6",
      "metadata": {
        "colab": {
          "base_uri": "https://localhost:8080/"
        },
        "id": "576f6e05-6e94-45a1-96cc-3e694cc971d6",
        "outputId": "aa110149-17d4-433e-c498-d61f591d1492"
      },
      "outputs": [
        {
          "output_type": "execute_result",
          "data": {
            "text/plain": [
              "array(['cab', 'call', 'me', 'please', 'tonight', 'you'], dtype=object)"
            ]
          },
          "metadata": {},
          "execution_count": 9
        }
      ],
      "source": [
        "vect.get_feature_names_out()"
      ]
    },
    {
      "cell_type": "code",
      "execution_count": null,
      "id": "0aef831c-50f0-4723-a04a-27af774f0542",
      "metadata": {
        "colab": {
          "base_uri": "https://localhost:8080/"
        },
        "id": "0aef831c-50f0-4723-a04a-27af774f0542",
        "outputId": "65a6bc21-6d62-41fb-b9f5-108c5da1bb1b"
      },
      "outputs": [
        {
          "output_type": "execute_result",
          "data": {
            "text/plain": [
              "array([[0, 1, 0, 0, 1, 1],\n",
              "       [1, 1, 1, 0, 0, 0],\n",
              "       [0, 1, 1, 2, 0, 0]])"
            ]
          },
          "metadata": {},
          "execution_count": 10
        }
      ],
      "source": [
        "# convert sparse matrix to a dense matrix\n",
        "simple_train.toarray()"
      ]
    },
    {
      "cell_type": "markdown",
      "id": "aa523614-ff0d-4f22-b8f2-4505e33a2460",
      "metadata": {
        "id": "aa523614-ff0d-4f22-b8f2-4505e33a2460"
      },
      "source": [
        "In this scheme, features and samples are defined as follows:\n",
        "\n",
        "- Each individual token occurrence frequency (normalized or not) is treated as a feature.\n",
        "- The vector of all the token frequencies for a given document is considered a multivariate sample.\n",
        "\n",
        "A corpus of documents can thus be represented by a matrix with one row per document and one column per token (e.g. word) occurring in the corpus."
      ]
    },
    {
      "cell_type": "code",
      "execution_count": null,
      "id": "5d0a1561-6e5c-495e-b056-fc9fe376121d",
      "metadata": {
        "colab": {
          "base_uri": "https://localhost:8080/",
          "height": 143
        },
        "id": "5d0a1561-6e5c-495e-b056-fc9fe376121d",
        "outputId": "f55fa8de-12dc-4706-c419-21f402334959"
      },
      "outputs": [
        {
          "output_type": "execute_result",
          "data": {
            "text/plain": [
              "   cab  call  me  please  tonight  you\n",
              "0    0     1   0       0        1    1\n",
              "1    1     1   1       0        0    0\n",
              "2    0     1   1       2        0    0"
            ],
            "text/html": [
              "\n",
              "  <div id=\"df-9a81fbc4-28cd-4818-92a5-56a7f51b45eb\">\n",
              "    <div class=\"colab-df-container\">\n",
              "      <div>\n",
              "<style scoped>\n",
              "    .dataframe tbody tr th:only-of-type {\n",
              "        vertical-align: middle;\n",
              "    }\n",
              "\n",
              "    .dataframe tbody tr th {\n",
              "        vertical-align: top;\n",
              "    }\n",
              "\n",
              "    .dataframe thead th {\n",
              "        text-align: right;\n",
              "    }\n",
              "</style>\n",
              "<table border=\"1\" class=\"dataframe\">\n",
              "  <thead>\n",
              "    <tr style=\"text-align: right;\">\n",
              "      <th></th>\n",
              "      <th>cab</th>\n",
              "      <th>call</th>\n",
              "      <th>me</th>\n",
              "      <th>please</th>\n",
              "      <th>tonight</th>\n",
              "      <th>you</th>\n",
              "    </tr>\n",
              "  </thead>\n",
              "  <tbody>\n",
              "    <tr>\n",
              "      <th>0</th>\n",
              "      <td>0</td>\n",
              "      <td>1</td>\n",
              "      <td>0</td>\n",
              "      <td>0</td>\n",
              "      <td>1</td>\n",
              "      <td>1</td>\n",
              "    </tr>\n",
              "    <tr>\n",
              "      <th>1</th>\n",
              "      <td>1</td>\n",
              "      <td>1</td>\n",
              "      <td>1</td>\n",
              "      <td>0</td>\n",
              "      <td>0</td>\n",
              "      <td>0</td>\n",
              "    </tr>\n",
              "    <tr>\n",
              "      <th>2</th>\n",
              "      <td>0</td>\n",
              "      <td>1</td>\n",
              "      <td>1</td>\n",
              "      <td>2</td>\n",
              "      <td>0</td>\n",
              "      <td>0</td>\n",
              "    </tr>\n",
              "  </tbody>\n",
              "</table>\n",
              "</div>\n",
              "      <button class=\"colab-df-convert\" onclick=\"convertToInteractive('df-9a81fbc4-28cd-4818-92a5-56a7f51b45eb')\"\n",
              "              title=\"Convert this dataframe to an interactive table.\"\n",
              "              style=\"display:none;\">\n",
              "        \n",
              "  <svg xmlns=\"http://www.w3.org/2000/svg\" height=\"24px\"viewBox=\"0 0 24 24\"\n",
              "       width=\"24px\">\n",
              "    <path d=\"M0 0h24v24H0V0z\" fill=\"none\"/>\n",
              "    <path d=\"M18.56 5.44l.94 2.06.94-2.06 2.06-.94-2.06-.94-.94-2.06-.94 2.06-2.06.94zm-11 1L8.5 8.5l.94-2.06 2.06-.94-2.06-.94L8.5 2.5l-.94 2.06-2.06.94zm10 10l.94 2.06.94-2.06 2.06-.94-2.06-.94-.94-2.06-.94 2.06-2.06.94z\"/><path d=\"M17.41 7.96l-1.37-1.37c-.4-.4-.92-.59-1.43-.59-.52 0-1.04.2-1.43.59L10.3 9.45l-7.72 7.72c-.78.78-.78 2.05 0 2.83L4 21.41c.39.39.9.59 1.41.59.51 0 1.02-.2 1.41-.59l7.78-7.78 2.81-2.81c.8-.78.8-2.07 0-2.86zM5.41 20L4 18.59l7.72-7.72 1.47 1.35L5.41 20z\"/>\n",
              "  </svg>\n",
              "      </button>\n",
              "      \n",
              "  <style>\n",
              "    .colab-df-container {\n",
              "      display:flex;\n",
              "      flex-wrap:wrap;\n",
              "      gap: 12px;\n",
              "    }\n",
              "\n",
              "    .colab-df-convert {\n",
              "      background-color: #E8F0FE;\n",
              "      border: none;\n",
              "      border-radius: 50%;\n",
              "      cursor: pointer;\n",
              "      display: none;\n",
              "      fill: #1967D2;\n",
              "      height: 32px;\n",
              "      padding: 0 0 0 0;\n",
              "      width: 32px;\n",
              "    }\n",
              "\n",
              "    .colab-df-convert:hover {\n",
              "      background-color: #E2EBFA;\n",
              "      box-shadow: 0px 1px 2px rgba(60, 64, 67, 0.3), 0px 1px 3px 1px rgba(60, 64, 67, 0.15);\n",
              "      fill: #174EA6;\n",
              "    }\n",
              "\n",
              "    [theme=dark] .colab-df-convert {\n",
              "      background-color: #3B4455;\n",
              "      fill: #D2E3FC;\n",
              "    }\n",
              "\n",
              "    [theme=dark] .colab-df-convert:hover {\n",
              "      background-color: #434B5C;\n",
              "      box-shadow: 0px 1px 3px 1px rgba(0, 0, 0, 0.15);\n",
              "      filter: drop-shadow(0px 1px 2px rgba(0, 0, 0, 0.3));\n",
              "      fill: #FFFFFF;\n",
              "    }\n",
              "  </style>\n",
              "\n",
              "      <script>\n",
              "        const buttonEl =\n",
              "          document.querySelector('#df-9a81fbc4-28cd-4818-92a5-56a7f51b45eb button.colab-df-convert');\n",
              "        buttonEl.style.display =\n",
              "          google.colab.kernel.accessAllowed ? 'block' : 'none';\n",
              "\n",
              "        async function convertToInteractive(key) {\n",
              "          const element = document.querySelector('#df-9a81fbc4-28cd-4818-92a5-56a7f51b45eb');\n",
              "          const dataTable =\n",
              "            await google.colab.kernel.invokeFunction('convertToInteractive',\n",
              "                                                     [key], {});\n",
              "          if (!dataTable) return;\n",
              "\n",
              "          const docLinkHtml = 'Like what you see? Visit the ' +\n",
              "            '<a target=\"_blank\" href=https://colab.research.google.com/notebooks/data_table.ipynb>data table notebook</a>'\n",
              "            + ' to learn more about interactive tables.';\n",
              "          element.innerHTML = '';\n",
              "          dataTable['output_type'] = 'display_data';\n",
              "          await google.colab.output.renderOutput(dataTable, element);\n",
              "          const docLink = document.createElement('div');\n",
              "          docLink.innerHTML = docLinkHtml;\n",
              "          element.appendChild(docLink);\n",
              "        }\n",
              "      </script>\n",
              "    </div>\n",
              "  </div>\n",
              "  "
            ]
          },
          "metadata": {},
          "execution_count": 11
        }
      ],
      "source": [
        "# examine the vocabulary and document-term matrix together\n",
        "pd.DataFrame(simple_train.toarray(), columns=vect.get_feature_names_out())"
      ]
    },
    {
      "cell_type": "markdown",
      "id": "02042133-9bad-4aa3-b0be-a53158e7102e",
      "metadata": {
        "id": "02042133-9bad-4aa3-b0be-a53158e7102e"
      },
      "source": [
        "### Transform Testing data into a document-term matrix (using existing / training vocabulary)\n",
        "\n",
        "- You are supposed to use the training vocabolary to make the count matrix for test data"
      ]
    },
    {
      "cell_type": "code",
      "execution_count": null,
      "id": "1a50c164-91ac-4861-993d-e14a2be7c6aa",
      "metadata": {
        "id": "1a50c164-91ac-4861-993d-e14a2be7c6aa"
      },
      "outputs": [],
      "source": [
        "simple_test = [\"please don't call me\"]"
      ]
    },
    {
      "cell_type": "code",
      "execution_count": null,
      "id": "30e0b5eb-d7ab-468a-86e2-89dcd0fa0184",
      "metadata": {
        "colab": {
          "base_uri": "https://localhost:8080/"
        },
        "id": "30e0b5eb-d7ab-468a-86e2-89dcd0fa0184",
        "outputId": "84cae6cd-ae8e-43b7-827d-02e9123ce8da"
      },
      "outputs": [
        {
          "output_type": "execute_result",
          "data": {
            "text/plain": [
              "array([[0, 1, 1, 1, 0, 0]])"
            ]
          },
          "metadata": {},
          "execution_count": 13
        }
      ],
      "source": [
        "simple_test_dtm = vect.transform(simple_test)\n",
        "simple_test_dtm.toarray()"
      ]
    },
    {
      "cell_type": "code",
      "execution_count": null,
      "id": "9df0574c-6088-4418-92b4-d6d69c9d9d41",
      "metadata": {
        "colab": {
          "base_uri": "https://localhost:8080/",
          "height": 81
        },
        "id": "9df0574c-6088-4418-92b4-d6d69c9d9d41",
        "outputId": "95106369-a030-42f0-8714-11b263d898e9"
      },
      "outputs": [
        {
          "output_type": "execute_result",
          "data": {
            "text/plain": [
              "   cab  call  me  please  tonight  you\n",
              "0    0     1   1       1        0    0"
            ],
            "text/html": [
              "\n",
              "  <div id=\"df-80ac130c-e8d8-4c0f-bf88-63a265a31ec6\">\n",
              "    <div class=\"colab-df-container\">\n",
              "      <div>\n",
              "<style scoped>\n",
              "    .dataframe tbody tr th:only-of-type {\n",
              "        vertical-align: middle;\n",
              "    }\n",
              "\n",
              "    .dataframe tbody tr th {\n",
              "        vertical-align: top;\n",
              "    }\n",
              "\n",
              "    .dataframe thead th {\n",
              "        text-align: right;\n",
              "    }\n",
              "</style>\n",
              "<table border=\"1\" class=\"dataframe\">\n",
              "  <thead>\n",
              "    <tr style=\"text-align: right;\">\n",
              "      <th></th>\n",
              "      <th>cab</th>\n",
              "      <th>call</th>\n",
              "      <th>me</th>\n",
              "      <th>please</th>\n",
              "      <th>tonight</th>\n",
              "      <th>you</th>\n",
              "    </tr>\n",
              "  </thead>\n",
              "  <tbody>\n",
              "    <tr>\n",
              "      <th>0</th>\n",
              "      <td>0</td>\n",
              "      <td>1</td>\n",
              "      <td>1</td>\n",
              "      <td>1</td>\n",
              "      <td>0</td>\n",
              "      <td>0</td>\n",
              "    </tr>\n",
              "  </tbody>\n",
              "</table>\n",
              "</div>\n",
              "      <button class=\"colab-df-convert\" onclick=\"convertToInteractive('df-80ac130c-e8d8-4c0f-bf88-63a265a31ec6')\"\n",
              "              title=\"Convert this dataframe to an interactive table.\"\n",
              "              style=\"display:none;\">\n",
              "        \n",
              "  <svg xmlns=\"http://www.w3.org/2000/svg\" height=\"24px\"viewBox=\"0 0 24 24\"\n",
              "       width=\"24px\">\n",
              "    <path d=\"M0 0h24v24H0V0z\" fill=\"none\"/>\n",
              "    <path d=\"M18.56 5.44l.94 2.06.94-2.06 2.06-.94-2.06-.94-.94-2.06-.94 2.06-2.06.94zm-11 1L8.5 8.5l.94-2.06 2.06-.94-2.06-.94L8.5 2.5l-.94 2.06-2.06.94zm10 10l.94 2.06.94-2.06 2.06-.94-2.06-.94-.94-2.06-.94 2.06-2.06.94z\"/><path d=\"M17.41 7.96l-1.37-1.37c-.4-.4-.92-.59-1.43-.59-.52 0-1.04.2-1.43.59L10.3 9.45l-7.72 7.72c-.78.78-.78 2.05 0 2.83L4 21.41c.39.39.9.59 1.41.59.51 0 1.02-.2 1.41-.59l7.78-7.78 2.81-2.81c.8-.78.8-2.07 0-2.86zM5.41 20L4 18.59l7.72-7.72 1.47 1.35L5.41 20z\"/>\n",
              "  </svg>\n",
              "      </button>\n",
              "      \n",
              "  <style>\n",
              "    .colab-df-container {\n",
              "      display:flex;\n",
              "      flex-wrap:wrap;\n",
              "      gap: 12px;\n",
              "    }\n",
              "\n",
              "    .colab-df-convert {\n",
              "      background-color: #E8F0FE;\n",
              "      border: none;\n",
              "      border-radius: 50%;\n",
              "      cursor: pointer;\n",
              "      display: none;\n",
              "      fill: #1967D2;\n",
              "      height: 32px;\n",
              "      padding: 0 0 0 0;\n",
              "      width: 32px;\n",
              "    }\n",
              "\n",
              "    .colab-df-convert:hover {\n",
              "      background-color: #E2EBFA;\n",
              "      box-shadow: 0px 1px 2px rgba(60, 64, 67, 0.3), 0px 1px 3px 1px rgba(60, 64, 67, 0.15);\n",
              "      fill: #174EA6;\n",
              "    }\n",
              "\n",
              "    [theme=dark] .colab-df-convert {\n",
              "      background-color: #3B4455;\n",
              "      fill: #D2E3FC;\n",
              "    }\n",
              "\n",
              "    [theme=dark] .colab-df-convert:hover {\n",
              "      background-color: #434B5C;\n",
              "      box-shadow: 0px 1px 3px 1px rgba(0, 0, 0, 0.15);\n",
              "      filter: drop-shadow(0px 1px 2px rgba(0, 0, 0, 0.3));\n",
              "      fill: #FFFFFF;\n",
              "    }\n",
              "  </style>\n",
              "\n",
              "      <script>\n",
              "        const buttonEl =\n",
              "          document.querySelector('#df-80ac130c-e8d8-4c0f-bf88-63a265a31ec6 button.colab-df-convert');\n",
              "        buttonEl.style.display =\n",
              "          google.colab.kernel.accessAllowed ? 'block' : 'none';\n",
              "\n",
              "        async function convertToInteractive(key) {\n",
              "          const element = document.querySelector('#df-80ac130c-e8d8-4c0f-bf88-63a265a31ec6');\n",
              "          const dataTable =\n",
              "            await google.colab.kernel.invokeFunction('convertToInteractive',\n",
              "                                                     [key], {});\n",
              "          if (!dataTable) return;\n",
              "\n",
              "          const docLinkHtml = 'Like what you see? Visit the ' +\n",
              "            '<a target=\"_blank\" href=https://colab.research.google.com/notebooks/data_table.ipynb>data table notebook</a>'\n",
              "            + ' to learn more about interactive tables.';\n",
              "          element.innerHTML = '';\n",
              "          dataTable['output_type'] = 'display_data';\n",
              "          await google.colab.output.renderOutput(dataTable, element);\n",
              "          const docLink = document.createElement('div');\n",
              "          docLink.innerHTML = docLinkHtml;\n",
              "          element.appendChild(docLink);\n",
              "        }\n",
              "      </script>\n",
              "    </div>\n",
              "  </div>\n",
              "  "
            ]
          },
          "metadata": {},
          "execution_count": 14
        }
      ],
      "source": [
        "# examine the vocabulary and document-term matrix together\n",
        "pd.DataFrame(simple_test_dtm.toarray(), columns=vect.get_feature_names_out())"
      ]
    },
    {
      "cell_type": "markdown",
      "id": "ec45268a-bc57-4a34-b496-b30751119403",
      "metadata": {
        "id": "ec45268a-bc57-4a34-b496-b30751119403"
      },
      "source": [
        "## Multinomial Naive Bayes Implementation\n",
        "\n",
        "- Your task is to implement Mutlinomial Naive Bayes from scratch, you can use numpy to vectorize your code and matplotlib  to show your analysis.\n",
        "- Below some information has given from the documentation about Multinomial Naive Bayes, this will give you some idea about using *Smoothing Priors*.\n",
        "- There is a sub-question for experimenting with $\\alpha > 0$, you don't have to implement it separetely, try to incomporate it in same Model Class / Function."
      ]
    },
    {
      "cell_type": "markdown",
      "id": "d3c9e325-5e71-4810-83c9-a2e3b5a547b2",
      "metadata": {
        "id": "d3c9e325-5e71-4810-83c9-a2e3b5a547b2"
      },
      "source": [
        "📌 From the scikit-learn documentation:\n",
        "\n",
        "- Multinomial Naive Bayes implements the naive Bayes algorithm for multinomially distributed data, and is one of the two classic naive Bayes variants used in text classification (where the data are typically represented as word vector counts, although tf-idf vectors are also known to work well in practice).\n",
        "\n",
        "- The distribution $\\theta_y = (\\theta_{y1}, \\theta_{y2}, \\dots, \\theta_{yn})$ is parametrized by vectors for each class $y$, where $n$ is the number of features (in text classification, the size of the vocabulary) and $\\theta_{yi}$ is the probability $P(x_i|y)$ of feature appearing in a sample belonging to class.\n",
        "\n",
        "- The parameters $\\theta_y$ is estimated by a smoothed version of maximum likelihood, i.e. relative frequency counting:\n",
        "\n",
        "$$\n",
        "\\hat{\\theta}_{yi} = \\frac{N_{yi} + \\alpha}{N_{y} + \\alpha n}\n",
        "$$\n",
        "\n",
        " where $N_{yi} = \\sum_{x \\in T}{x_i}$ is the number of times feature $i $ appears in a sample of class in the training set $T$, and $N_{y} = \\sum^{n}_{i=1}{N_{yi}}$ is the total count of all features for class $y$.\n",
        "\n",
        "- The smoothing priors $\\alpha \\gt 0$ accounts for features not present in the learning samples and **prevents zero probabilities** in further computations. Setting $\\alpha = 1$ is called Laplace smoothing, while $\\alpha \\lt 1$ is called Lidstone smoothing.\n"
      ]
    },
    {
      "cell_type": "markdown",
      "id": "0dbcd1df-1c3d-477d-b0f6-c8c17868c797",
      "metadata": {
        "id": "0dbcd1df-1c3d-477d-b0f6-c8c17868c797"
      },
      "source": [
        "## Vectorizing Training Sample\n",
        "\n",
        "- Use the Helper code above to vectorize for training samples\n",
        "- Don't overthink it, its very easy to do"
      ]
    },
    {
      "cell_type": "code",
      "execution_count": null,
      "id": "c2561b73-fc1b-47aa-8ae9-6d1ba8ad3015",
      "metadata": {
        "id": "c2561b73-fc1b-47aa-8ae9-6d1ba8ad3015"
      },
      "outputs": [],
      "source": [
        "count_words = []\n",
        "count_normal_words = []\n",
        "count_spam_words = []\n",
        "vect = CountVectorizer()\n",
        "def vectorize():\n",
        "  xt = X_train.tolist()\n",
        "  simple_train = vect.fit_transform(xt)\n",
        "\n",
        "  vect.get_feature_names_out()\n",
        "  tt = simple_train.toarray()\n",
        "  df = pd.DataFrame(simple_train.toarray(), columns=vect.get_feature_names_out())\n",
        "  df1 = pd.DataFrame(y_train)\n",
        "  return tt\n",
        "tt = vectorize()"
      ]
    },
    {
      "cell_type": "markdown",
      "id": "ec22e087-4e03-4428-8f47-4cb4f2ec1645",
      "metadata": {
        "id": "ec22e087-4e03-4428-8f47-4cb4f2ec1645"
      },
      "source": [
        "## Calculate Priors and Estimate Model's performance on Training Sample\n",
        "\n",
        "- Calculate priors based on Training Sample using your NB implementation\n",
        "- Evaluate your model's performance on Training Data ($\\alpha = 0$)"
      ]
    },
    {
      "cell_type": "code",
      "source": [
        "def fit(X_train,y_train,alpha):\n",
        "\n",
        "  count=0\n",
        "  for i in y_train:\n",
        "      if i == 1:\n",
        "          count+=1\n",
        "  spam_count = count\n",
        "  print(spam_count)\n",
        "  for i in range(0,len(vect.get_feature_names_out())):\n",
        "    count_words.append(1)\n",
        "    count_normal_words.append(alpha)\n",
        "    count_spam_words.append(alpha)\n",
        "  xlen = len(X_train)\n",
        "  ylen = len(vect.get_feature_names_out())\n",
        "  y_train = y_train.tolist()\n",
        "  for i in range(0,xlen):\n",
        "    for j in range(0,ylen):\n",
        "        if y_train[i] == 0:\n",
        "          count_normal_words[j]+= (tt)[i][j]\n",
        "        else:\n",
        "          count_spam_words[j]+= (tt)[i][j]\n",
        "  snw = sum(count_normal_words)\n",
        "  spw = sum(count_spam_words)\n",
        "  print(spw)\n",
        "  print(snw)\n",
        "  for i in range(0,len(count_normal_words)):\n",
        "    count_normal_words[i]=count_normal_words[i]/snw\n",
        "    count_spam_words[i]=count_spam_words[i]/spw\n",
        "  "
      ],
      "metadata": {
        "id": "NRtHDOsB1oM-"
      },
      "id": "NRtHDOsB1oM-",
      "execution_count": null,
      "outputs": []
    },
    {
      "cell_type": "code",
      "execution_count": null,
      "id": "a16cc470-b033-444f-a366-5b3213eba877",
      "metadata": {
        "id": "a16cc470-b033-444f-a366-5b3213eba877"
      },
      "outputs": [],
      "source": [
        "def predict(X_test,y_test):\n",
        "  y_test = y_test.tolist()\n",
        "  count=0\n",
        "  for i in y_test:\n",
        "      if i == 1:\n",
        "          count+=1\n",
        "  spam_count = count\n",
        "  count=0\n",
        "  count1=0\n",
        "  count2=0\n",
        "  # print(len(a))\n",
        "  print(len(count_spam_words))\n",
        "  for i in range(len(X_test)):\n",
        "    ps = 1\n",
        "    pn = 1\n",
        "    for j in range(0,len(tt[i])):\n",
        "        ps *= pow(count_spam_words[j],tt[i][j])\n",
        "        pn *= pow(count_normal_words[j],tt[i][j])\n",
        "    ps*=(spam_count/len(X_test))\n",
        "    pn*=((len(X_test)-spam_count)/len(X_test))\n",
        "    # print()\n",
        "    if ps>pn and y_test[i]==1:\n",
        "        count+=1\n",
        "    if ps<pn and y_test[i]==0:\n",
        "        count+=1\n",
        "    count2+=1\n",
        "  print(count,count1,count2)\n",
        "  print(\"Accuracy : \",count/count2*100)"
      ]
    },
    {
      "cell_type": "code",
      "execution_count": null,
      "id": "1aa85aed-f38c-4acc-9c76-339d5914118d",
      "metadata": {
        "colab": {
          "base_uri": "https://localhost:8080/"
        },
        "id": "1aa85aed-f38c-4acc-9c76-339d5914118d",
        "outputId": "daf21ffc-0f05-4d0b-b5c6-86e802058861"
      },
      "outputs": [
        {
          "output_type": "stream",
          "name": "stdout",
          "text": [
            "567\n",
            "16831\n",
            "35358\n"
          ]
        }
      ],
      "source": [
        "fit(X_train,y_train,1)"
      ]
    },
    {
      "cell_type": "code",
      "source": [
        "predict(X_train,y_train)"
      ],
      "metadata": {
        "colab": {
          "base_uri": "https://localhost:8080/"
        },
        "id": "3G40h0M_6hgZ",
        "outputId": "f1e39b45-8f21-4cda-f32d-dad0d1b907f6"
      },
      "id": "3G40h0M_6hgZ",
      "execution_count": null,
      "outputs": [
        {
          "output_type": "stream",
          "name": "stdout",
          "text": [
            "4155 0 4179\n",
            "Accuracy :  99.4256999282125\n"
          ]
        }
      ]
    },
    {
      "cell_type": "markdown",
      "id": "d8a6ec92-2ba4-40bf-9b5d-01825338c034",
      "metadata": {
        "id": "d8a6ec92-2ba4-40bf-9b5d-01825338c034"
      },
      "source": [
        "## Vectorizing Test Sample\n",
        "\n",
        "- Use the Training Sample vocabulary to create word count matrix for test samples\n",
        "- This is also shown in the Helper code"
      ]
    },
    {
      "cell_type": "code",
      "source": [
        "def vectorize1():\n",
        "  xt1 = X_test.tolist()\n",
        "  simple_train1 = vect.transform(xt1)\n",
        "  tt = simple_train1.toarray()\n",
        "\n",
        "  df = pd.DataFrame(simple_train1.toarray(), columns=vect.get_feature_names_out())\n",
        "  return tt\n",
        "tt = vectorize1()"
      ],
      "metadata": {
        "id": "CVPoaVAy5el7"
      },
      "id": "CVPoaVAy5el7",
      "execution_count": null,
      "outputs": []
    },
    {
      "cell_type": "markdown",
      "id": "7c02b84a-3116-4260-846d-50e6849efe48",
      "metadata": {
        "id": "7c02b84a-3116-4260-846d-50e6849efe48"
      },
      "source": [
        "## Estimate Model's performance on Test Sample\n",
        "\n",
        "- Evaluate your model's performance on Test Sample, using the Training Priors ($\\alpha = 0$)"
      ]
    },
    {
      "cell_type": "code",
      "execution_count": null,
      "id": "cb763cb8-5a31-4d7d-b538-b741c8cfaae8",
      "metadata": {
        "colab": {
          "base_uri": "https://localhost:8080/"
        },
        "id": "cb763cb8-5a31-4d7d-b538-b741c8cfaae8",
        "outputId": "56fcc041-f7c0-4ea1-b00f-f3f55cd9f53f"
      },
      "outputs": [
        {
          "output_type": "stream",
          "name": "stdout",
          "text": [
            "1369 0 1393\n",
            "Accuracy :  98.27709978463747\n"
          ]
        }
      ],
      "source": [
        "predict(X_test,y_test)"
      ]
    },
    {
      "cell_type": "markdown",
      "id": "b415868e-4b61-4a13-abb5-22124e5312bc",
      "metadata": {
        "id": "b415868e-4b61-4a13-abb5-22124e5312bc"
      },
      "source": [
        "## Select Smoothing Priors\n",
        "\n",
        "- Refactor your code to incorporate smoothing priors, select $\\alpha = 0$ for the previous estimates / sub-questions\n",
        "- Compare the performance with different values of $\\alpha \\gt 0$ as smoothing priors to take care of zero probabilities\n",
        "- You can display a Plot or Table to show the comparison."
      ]
    },
    {
      "cell_type": "code",
      "execution_count": null,
      "id": "a707cc0d-1f16-40a5-93ec-0366165b077c",
      "metadata": {
        "colab": {
          "base_uri": "https://localhost:8080/"
        },
        "id": "a707cc0d-1f16-40a5-93ec-0366165b077c",
        "outputId": "73f939be-e760-4f3d-9995-11e96b64dd60"
      },
      "outputs": [
        {
          "output_type": "stream",
          "name": "stdout",
          "text": [
            "567\n",
            "8835\n",
            "27362\n",
            "7996\n",
            "1295 0 1393\n",
            "Accuracy :  92.96482412060301\n",
            "567\n",
            "9634.60000000157\n",
            "28161.599999996473\n",
            "7996\n",
            "1370 0 1393\n",
            "Accuracy :  98.34888729361091\n",
            "567\n",
            "11233.799999999197\n",
            "29760.799999996616\n",
            "7996\n",
            "1374 0 1393\n",
            "Accuracy :  98.63603732950466\n",
            "567\n",
            "12833.0\n",
            "31360.0\n",
            "7996\n",
            "1375 0 1393\n",
            "Accuracy :  98.7078248384781\n",
            "567\n",
            "14432.200000001849\n",
            "32959.20000000346\n",
            "7996\n",
            "1373 0 1393\n",
            "Accuracy :  98.56424982053123\n",
            "567\n",
            "16831\n",
            "35358\n",
            "7996\n",
            "1369 0 1393\n",
            "Accuracy :  98.27709978463747\n"
          ]
        }
      ],
      "source": [
        "alpha = [0,0.1,0.3,0.5,0.7,1]\n",
        "for i in alpha:\n",
        "  count_spam_words.clear()\n",
        "  count_normal_words.clear()\n",
        "  tt=vectorize()\n",
        "  fit(X_train,y_train,i)\n",
        "  tt=vectorize1()\n",
        "  predict(X_test,y_test)\n"
      ]
    },
    {
      "cell_type": "markdown",
      "id": "d58051f8-67fb-4632-884b-23c719d4cae7",
      "metadata": {
        "id": "d58051f8-67fb-4632-884b-23c719d4cae7"
      },
      "source": [
        "## Comparison with Sci-kit Learn Implementation\n",
        "\n",
        "- Use sci-kit learn's `sklearn.naive_bayes.MultinomialNB` model to compare your implementation's performance\n",
        "- (Optional) try other classifiers from `sklearn.naive_bayes` and see if you can make them work`"
      ]
    },
    {
      "cell_type": "code",
      "execution_count": null,
      "id": "192a26af-2b0a-4165-9d36-b5ed774c11fb",
      "metadata": {
        "colab": {
          "base_uri": "https://localhost:8080/"
        },
        "id": "192a26af-2b0a-4165-9d36-b5ed774c11fb",
        "outputId": "403cab07-3724-40c9-d66c-3917816b2a79"
      },
      "outputs": [
        {
          "output_type": "stream",
          "name": "stdout",
          "text": [
            "Accuracy =  98.27709978463747 %\n"
          ]
        }
      ],
      "source": [
        "vect = CountVectorizer()\n",
        "vect.fit(X_train)\n",
        "X_train_dtm = vect.transform(X_train)\n",
        "X_train_dtm = vect.fit_transform(X_train)\n",
        "X_test_dtm = vect.transform(X_test)\n",
        "\n",
        "from sklearn.naive_bayes import MultinomialNB\n",
        "nb = MultinomialNB()\n",
        "nb.fit(X_train_dtm, y_train)\n",
        "y_pred_class = nb.predict(X_test_dtm)\n",
        "\n",
        "from sklearn import metrics\n",
        "metrics.accuracy_score(y_test, y_pred_class)\n",
        "accuracy = metrics.accuracy_score(y_test, y_pred_class)\n",
        "print(\"Accuracy = \", accuracy*100, \"%\")"
      ]
    }
  ],
  "metadata": {
    "kernelspec": {
      "display_name": "Python 3.10.6 64-bit",
      "language": "python",
      "name": "python3"
    },
    "language_info": {
      "codemirror_mode": {
        "name": "ipython",
        "version": 3
      },
      "file_extension": ".py",
      "mimetype": "text/x-python",
      "name": "python",
      "nbconvert_exporter": "python",
      "pygments_lexer": "ipython3",
      "version": "3.10.6"
    },
    "vscode": {
      "interpreter": {
        "hash": "916dbcbb3f70747c44a77c7bcd40155683ae19c65e1c03b4aa3499c5328201f1"
      }
    },
    "colab": {
      "provenance": []
    }
  },
  "nbformat": 4,
  "nbformat_minor": 5
}